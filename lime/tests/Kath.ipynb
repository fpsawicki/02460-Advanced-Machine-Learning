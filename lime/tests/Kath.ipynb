{
 "cells": [
  {
   "cell_type": "code",
   "execution_count": 2,
   "metadata": {},
   "outputs": [],
   "source": [
    "import sys\n",
    "import pathlib\n",
    "lime_dir = pathlib.Path.cwd().parent.parent\n",
    "sys.path.append(str(lime_dir))"
   ]
  },
  {
   "cell_type": "code",
   "execution_count": 148,
   "metadata": {},
   "outputs": [],
   "source": [
    "from lime.lime_text import TextLIME\n",
    "from lime.indexers import StringTokenizer, NgramTokenizer"
   ]
  },
  {
   "cell_type": "code",
   "execution_count": null,
   "metadata": {},
   "outputs": [],
   "source": [
    "import numpy as np"
   ]
  },
  {
   "cell_type": "markdown",
   "metadata": {},
   "source": [
    "# NN model"
   ]
  },
  {
   "cell_type": "code",
   "execution_count": null,
   "metadata": {},
   "outputs": [],
   "source": [
    "from torchtext.datasets import AG_NEWS\n",
    "train_iter = AG_NEWS(split='train')"
   ]
  },
  {
   "cell_type": "code",
   "execution_count": 5,
   "metadata": {},
   "outputs": [],
   "source": [
    "import torch\n",
    "from torchtext.data.utils import get_tokenizer\n",
    "from collections import Counter\n",
    "from torchtext.vocab import Vocab\n",
    "\n",
    "tokenizer = get_tokenizer('basic_english')\n",
    "train_iter = AG_NEWS(split='train')\n",
    "counter = Counter()\n",
    "for (label, line) in train_iter:\n",
    "    counter.update(tokenizer(line))\n",
    "vocab = Vocab(counter, min_freq=1)\n",
    "\n",
    "\n",
    "text_pipeline = lambda x: [vocab[token] for token in tokenizer(x)]\n",
    "label_pipeline = lambda x: int(x) - 1"
   ]
  },
  {
   "cell_type": "code",
   "execution_count": 6,
   "metadata": {},
   "outputs": [],
   "source": [
    "from torch.utils.data import DataLoader\n",
    "device = torch.device(\"cuda\" if torch.cuda.is_available() else \"cpu\")\n",
    "\n",
    "def collate_batch(batch):\n",
    "    label_list, text_list, offsets = [], [], [0]\n",
    "    for (_label, _text) in batch:\n",
    "         label_list.append(label_pipeline(_label))\n",
    "         processed_text = torch.tensor(text_pipeline(_text), dtype=torch.int64)\n",
    "         text_list.append(processed_text)\n",
    "         offsets.append(processed_text.size(0))\n",
    "    label_list = torch.tensor(label_list, dtype=torch.int64)\n",
    "    offsets = torch.tensor(offsets[:-1]).cumsum(dim=0)\n",
    "    text_list = torch.cat(text_list)\n",
    "    return label_list.to(device), text_list.to(device), offsets.to(device)\n",
    "\n",
    "train_iter = AG_NEWS(split='train')\n",
    "dataloader = DataLoader(train_iter, batch_size=8, shuffle=False, collate_fn=collate_batch)"
   ]
  },
  {
   "cell_type": "code",
   "execution_count": 7,
   "metadata": {},
   "outputs": [],
   "source": [
    "from torch import nn\n",
    "\n",
    "class TextClassificationModel(nn.Module):\n",
    "\n",
    "    def __init__(self, vocab_size, embed_dim, num_class):\n",
    "        super(TextClassificationModel, self).__init__()\n",
    "        self.embedding = nn.EmbeddingBag(vocab_size, embed_dim, sparse=True)\n",
    "        self.fc = nn.Linear(embed_dim, num_class)\n",
    "        self.init_weights()\n",
    "\n",
    "    def init_weights(self):\n",
    "        initrange = 0.5\n",
    "        self.embedding.weight.data.uniform_(-initrange, initrange)\n",
    "        self.fc.weight.data.uniform_(-initrange, initrange)\n",
    "        self.fc.bias.data.zero_()\n",
    "\n",
    "    def forward(self, text, offsets):\n",
    "        embedded = self.embedding(text, offsets)\n",
    "        return self.fc(embedded)"
   ]
  },
  {
   "cell_type": "code",
   "execution_count": 8,
   "metadata": {},
   "outputs": [],
   "source": [
    "train_iter = AG_NEWS(split='train')\n",
    "num_class = len(set([label for (label, text) in train_iter]))\n",
    "vocab_size = len(vocab)\n",
    "emsize = 64\n",
    "model = TextClassificationModel(vocab_size, emsize, num_class).to(device)"
   ]
  },
  {
   "cell_type": "code",
   "execution_count": 9,
   "metadata": {},
   "outputs": [],
   "source": [
    "import time\n",
    "\n",
    "def train(dataloader):\n",
    "    model.train()\n",
    "    total_acc, total_count = 0, 0\n",
    "    log_interval = 500\n",
    "    start_time = time.time()\n",
    "\n",
    "    for idx, (label, text, offsets) in enumerate(dataloader):\n",
    "        optimizer.zero_grad()\n",
    "        predited_label = model(text, offsets)\n",
    "        loss = criterion(predited_label, label)\n",
    "        loss.backward()\n",
    "        torch.nn.utils.clip_grad_norm_(model.parameters(), 0.1)\n",
    "        optimizer.step()\n",
    "        total_acc += (predited_label.argmax(1) == label).sum().item()\n",
    "        total_count += label.size(0)\n",
    "        if idx % log_interval == 0 and idx > 0:\n",
    "            elapsed = time.time() - start_time\n",
    "            print('| epoch {:3d} | {:5d}/{:5d} batches '\n",
    "                  '| accuracy {:8.3f}'.format(epoch, idx, len(dataloader),\n",
    "                                              total_acc/total_count))\n",
    "            total_acc, total_count = 0, 0\n",
    "            start_time = time.time()\n",
    "\n",
    "def evaluate(dataloader):\n",
    "    model.eval()\n",
    "    total_acc, total_count = 0, 0\n",
    "\n",
    "    with torch.no_grad():\n",
    "        for idx, (label, text, offsets) in enumerate(dataloader):\n",
    "            predited_label = model(text, offsets)\n",
    "            loss = criterion(predited_label, label)\n",
    "            total_acc += (predited_label.argmax(1) == label).sum().item()\n",
    "            total_count += label.size(0)\n",
    "    return total_acc/total_count"
   ]
  },
  {
   "cell_type": "code",
   "execution_count": 10,
   "metadata": {},
   "outputs": [
    {
     "name": "stderr",
     "output_type": "stream",
     "text": [
      "C:\\Users\\akgmn\\OneDrive - Danmarks Tekniske Universitet\\DTU\\DTU 2. semester\\4 Advanced Machine Learning\\02460-Advanced-Machine-Learning\\lime\\tests\\.data\\test.csv: 1.86MB [00:00, 5.93MB/s]                          \n"
     ]
    },
    {
     "name": "stdout",
     "output_type": "stream",
     "text": [
      "| epoch   1 |   500/ 1782 batches | accuracy    0.692\n",
      "| epoch   1 |  1000/ 1782 batches | accuracy    0.857\n",
      "| epoch   1 |  1500/ 1782 batches | accuracy    0.878\n",
      "-----------------------------------------------------------\n",
      "| end of epoch   1 | time: 49.17s | valid accuracy    0.880 \n",
      "-----------------------------------------------------------\n",
      "| epoch   2 |   500/ 1782 batches | accuracy    0.899\n",
      "| epoch   2 |  1000/ 1782 batches | accuracy    0.901\n",
      "| epoch   2 |  1500/ 1782 batches | accuracy    0.902\n",
      "-----------------------------------------------------------\n",
      "| end of epoch   2 | time: 40.85s | valid accuracy    0.894 \n",
      "-----------------------------------------------------------\n",
      "| epoch   3 |   500/ 1782 batches | accuracy    0.916\n",
      "| epoch   3 |  1000/ 1782 batches | accuracy    0.918\n",
      "| epoch   3 |  1500/ 1782 batches | accuracy    0.914\n",
      "-----------------------------------------------------------\n",
      "| end of epoch   3 | time: 40.50s | valid accuracy    0.894 \n",
      "-----------------------------------------------------------\n",
      "| epoch   4 |   500/ 1782 batches | accuracy    0.924\n",
      "| epoch   4 |  1000/ 1782 batches | accuracy    0.924\n",
      "| epoch   4 |  1500/ 1782 batches | accuracy    0.923\n",
      "-----------------------------------------------------------\n",
      "| end of epoch   4 | time: 41.82s | valid accuracy    0.898 \n",
      "-----------------------------------------------------------\n",
      "| epoch   5 |   500/ 1782 batches | accuracy    0.929\n",
      "| epoch   5 |  1000/ 1782 batches | accuracy    0.931\n",
      "| epoch   5 |  1500/ 1782 batches | accuracy    0.929\n",
      "-----------------------------------------------------------\n",
      "| end of epoch   5 | time: 37.26s | valid accuracy    0.899 \n",
      "-----------------------------------------------------------\n",
      "| epoch   6 |   500/ 1782 batches | accuracy    0.937\n",
      "| epoch   6 |  1000/ 1782 batches | accuracy    0.934\n",
      "| epoch   6 |  1500/ 1782 batches | accuracy    0.934\n",
      "-----------------------------------------------------------\n",
      "| end of epoch   6 | time: 42.87s | valid accuracy    0.900 \n",
      "-----------------------------------------------------------\n",
      "| epoch   7 |   500/ 1782 batches | accuracy    0.943\n",
      "| epoch   7 |  1000/ 1782 batches | accuracy    0.938\n",
      "| epoch   7 |  1500/ 1782 batches | accuracy    0.938\n",
      "-----------------------------------------------------------\n",
      "| end of epoch   7 | time: 43.22s | valid accuracy    0.899 \n",
      "-----------------------------------------------------------\n",
      "| epoch   8 |   500/ 1782 batches | accuracy    0.952\n",
      "| epoch   8 |  1000/ 1782 batches | accuracy    0.953\n",
      "| epoch   8 |  1500/ 1782 batches | accuracy    0.952\n",
      "-----------------------------------------------------------\n",
      "| end of epoch   8 | time: 41.73s | valid accuracy    0.907 \n",
      "-----------------------------------------------------------\n",
      "| epoch   9 |   500/ 1782 batches | accuracy    0.955\n",
      "| epoch   9 |  1000/ 1782 batches | accuracy    0.953\n",
      "| epoch   9 |  1500/ 1782 batches | accuracy    0.951\n",
      "-----------------------------------------------------------\n",
      "| end of epoch   9 | time: 43.74s | valid accuracy    0.906 \n",
      "-----------------------------------------------------------\n",
      "| epoch  10 |   500/ 1782 batches | accuracy    0.954\n",
      "| epoch  10 |  1000/ 1782 batches | accuracy    0.954\n",
      "| epoch  10 |  1500/ 1782 batches | accuracy    0.955\n",
      "-----------------------------------------------------------\n",
      "| end of epoch  10 | time: 40.17s | valid accuracy    0.906 \n",
      "-----------------------------------------------------------\n"
     ]
    }
   ],
   "source": [
    "from torch.utils.data.dataset import random_split\n",
    "# Hyperparameters\n",
    "EPOCHS = 10 # epoch\n",
    "LR = 5  # learning rate\n",
    "BATCH_SIZE = 64 # batch size for training\n",
    "\n",
    "criterion = torch.nn.CrossEntropyLoss()\n",
    "optimizer = torch.optim.SGD(model.parameters(), lr=LR)\n",
    "scheduler = torch.optim.lr_scheduler.StepLR(optimizer, 1.0, gamma=0.1)\n",
    "total_accu = None\n",
    "train_iter, test_iter = AG_NEWS()\n",
    "train_dataset = list(train_iter)\n",
    "test_dataset = list(test_iter)\n",
    "num_train = int(len(train_dataset) * 0.95)\n",
    "split_train_, split_valid_ = \\\n",
    "    random_split(train_dataset, [num_train, len(train_dataset) - num_train])\n",
    "\n",
    "train_dataloader = DataLoader(split_train_, batch_size=BATCH_SIZE,\n",
    "                              shuffle=True, collate_fn=collate_batch)\n",
    "valid_dataloader = DataLoader(split_valid_, batch_size=BATCH_SIZE,\n",
    "                              shuffle=True, collate_fn=collate_batch)\n",
    "test_dataloader = DataLoader(test_dataset, batch_size=BATCH_SIZE,\n",
    "                             shuffle=True, collate_fn=collate_batch)\n",
    "\n",
    "for epoch in range(1, EPOCHS + 1):\n",
    "    epoch_start_time = time.time()\n",
    "    train(train_dataloader)\n",
    "    accu_val = evaluate(valid_dataloader)\n",
    "    if total_accu is not None and total_accu > accu_val:\n",
    "      scheduler.step()\n",
    "    else:\n",
    "       total_accu = accu_val\n",
    "    print('-' * 59)\n",
    "    print('| end of epoch {:3d} | time: {:5.2f}s | '\n",
    "          'valid accuracy {:8.3f} '.format(epoch,\n",
    "                                           time.time() - epoch_start_time,\n",
    "                                           accu_val))\n",
    "    print('-' * 59)"
   ]
  },
  {
   "cell_type": "markdown",
   "metadata": {},
   "source": [
    "# LIME"
   ]
  },
  {
   "cell_type": "code",
   "execution_count": 115,
   "metadata": {},
   "outputs": [],
   "source": [
    "def get_sample_predictions(text):\n",
    "    ag_news_label = {1: \"World\",\n",
    "                     2: \"Sports\",\n",
    "                     3: \"Business\",\n",
    "                     4: \"Sci/Tec\"}\n",
    "    prediction_probs = []\n",
    "    pred = []\n",
    "    with torch.no_grad():\n",
    "        text = torch.tensor(text_pipeline(text))\n",
    "        output = model(text, torch.tensor([0]))\n",
    "    # The output has unnormalized scores. To get probabilities, run a softmax on it.\n",
    "    prediction_probs.append(torch.nn.functional.softmax(output[0], dim=0))\n",
    "    res = output.argmax(1).item()\n",
    "    pred.append(res + 1)\n",
    "    prediction_probs = np.array([i.numpy() for i in prediction_probs])\n",
    "    return prediction_probs[0]"
   ]
  },
  {
   "cell_type": "code",
   "execution_count": 116,
   "metadata": {},
   "outputs": [],
   "source": [
    "ex_text_str2 = \"\"\"\n",
    "    GameStop shares plunged Wednesday after the long-struggling Grapevine, \n",
    "    Texas-based gameseller reported earnings that failed to impress analysts, \n",
    "    but the firm's new ecommerce push prompted one expert to release Wall Street's most bullish price target,\n",
    "    marking the first analyst to say that a turnaround could actually justify GameStop's meteoric valuation.\n",
    "\"\"\".strip().replace('\\n', '')"
   ]
  },
  {
   "cell_type": "code",
   "execution_count": 117,
   "metadata": {},
   "outputs": [
    {
     "data": {
      "text/plain": [
       "array([5.0722405e-02, 5.3117117e-05, 7.7181989e-01, 1.7740458e-01],\n",
       "      dtype=float32)"
      ]
     },
     "execution_count": 117,
     "metadata": {},
     "output_type": "execute_result"
    }
   ],
   "source": [
    "get_sample_predictions(ex_text_str2)"
   ]
  },
  {
   "cell_type": "code",
   "execution_count": 196,
   "metadata": {},
   "outputs": [],
   "source": [
    "#%load_ext autoreload\n",
    "#%autoreload 2\n",
    "\n",
    "del TextLIME\n",
    "from lime.lime_text import TextLIME\n",
    "\n",
    "del NgramTokenizer\n",
    "from lime.indexers import StringTokenizer, NgramTokenizer"
   ]
  },
  {
   "cell_type": "code",
   "execution_count": 198,
   "metadata": {},
   "outputs": [
    {
     "name": "stdout",
     "output_type": "stream",
     "text": [
      "[['', 'shares', 'plunged', 'wednesday', 'after', 'the', 'long-struggling', 'grapevine', ',', 'texas-based', 'gameseller', 'reported', 'earnings', 'that', 'failed', 'to', 'impress', 'analysts', ',', 'but', 'the', 'firm', \"'\", 's', 'new', 'ecommerce', 'push', 'prompted', 'one', 'expert', 'to', 'release', 'wall', 'street', \"'\", 's', 'most', 'bullish', 'price', 'target', ',', 'marking', 'the', 'first', 'analyst', 'to', 'say', 'that', 'a', 'turnaround', 'could', 'actually', 'justify', 'gamestop', \"'\", 's', 'meteoric', 'valuation', '.'], ['gamestop', '', 'plunged', 'wednesday', 'after', 'the', 'long-struggling', 'grapevine', ',', 'texas-based', 'gameseller', 'reported', 'earnings', 'that', 'failed', 'to', 'impress', 'analysts', ',', 'but', 'the', 'firm', \"'\", 's', 'new', 'ecommerce', 'push', 'prompted', 'one', 'expert', 'to', 'release', 'wall', 'street', \"'\", 's', 'most', 'bullish', 'price', 'target', ',', 'marking', 'the', 'first', 'analyst', 'to', 'say', 'that', 'a', 'turnaround', 'could', 'actually', 'justify', 'gamestop', \"'\", 's', 'meteoric', 'valuation', '.']]\n"
     ]
    }
   ],
   "source": [
    "indexer = StringTokenizer(tokenizer)\n",
    "exp = TextLIME(indexer=indexer, neighbour_version='one_off', neighbour_parameter=4)\n",
    "\n",
    "out = exp.explain_instance(ex_text_str2, get_sample_predictions, num_samples=2, labels=(2,))"
   ]
  },
  {
   "cell_type": "code",
   "execution_count": null,
   "metadata": {},
   "outputs": [],
   "source": [
    "out.describe()"
   ]
  },
  {
   "cell_type": "code",
   "execution_count": null,
   "metadata": {},
   "outputs": [],
   "source": [
    "np.array([1,2,300])*0"
   ]
  },
  {
   "cell_type": "code",
   "execution_count": null,
   "metadata": {},
   "outputs": [],
   "source": []
  }
 ],
 "metadata": {
  "kernelspec": {
   "display_name": "Python 3",
   "language": "python",
   "name": "python3"
  },
  "language_info": {
   "codemirror_mode": {
    "name": "ipython",
    "version": 3
   },
   "file_extension": ".py",
   "mimetype": "text/x-python",
   "name": "python",
   "nbconvert_exporter": "python",
   "pygments_lexer": "ipython3",
   "version": "3.8.5"
  }
 },
 "nbformat": 4,
 "nbformat_minor": 4
}
