{
 "cells": [
  {
   "cell_type": "code",
   "execution_count": 5,
   "metadata": {},
   "outputs": [],
   "source": [
    "import sys\n",
    "import pathlib\n",
    "lime_dir = pathlib.Path.cwd().parent.parent\n",
    "sys.path.append(str(lime_dir))"
   ]
  },
  {
   "cell_type": "code",
   "execution_count": 6,
   "metadata": {},
   "outputs": [],
   "source": [
    "from lime.lime_text import TextLIME\n",
    "from lime.indexers import StringTokenizer, NgramTokenizer"
   ]
  },
  {
   "cell_type": "code",
   "execution_count": 7,
   "metadata": {},
   "outputs": [],
   "source": [
    "import numpy as np"
   ]
  },
  {
   "cell_type": "markdown",
   "metadata": {},
   "source": [
    "# NN model"
   ]
  },
  {
   "cell_type": "code",
   "execution_count": 8,
   "metadata": {},
   "outputs": [],
   "source": [
    "from torchtext.datasets import AG_NEWS\n",
    "train_iter = AG_NEWS(split='train')"
   ]
  },
  {
   "cell_type": "code",
   "execution_count": 9,
   "metadata": {},
   "outputs": [],
   "source": [
    "import torch\n",
    "from torchtext.data.utils import get_tokenizer\n",
    "from collections import Counter\n",
    "from torchtext.vocab import Vocab\n",
    "\n",
    "tokenizer = get_tokenizer('basic_english')\n",
    "train_iter = AG_NEWS(split='train')\n",
    "counter = Counter()\n",
    "for (label, line) in train_iter:\n",
    "    counter.update(tokenizer(line))\n",
    "vocab = Vocab(counter, min_freq=1)\n",
    "\n",
    "\n",
    "text_pipeline = lambda x: [vocab[token] for token in tokenizer(x)]\n",
    "label_pipeline = lambda x: int(x) - 1"
   ]
  },
  {
   "cell_type": "code",
   "execution_count": 10,
   "metadata": {},
   "outputs": [],
   "source": [
    "from torch.utils.data import DataLoader\n",
    "device = torch.device(\"cuda\" if torch.cuda.is_available() else \"cpu\")\n",
    "\n",
    "def collate_batch(batch):\n",
    "    label_list, text_list, offsets = [], [], [0]\n",
    "    for (_label, _text) in batch:\n",
    "         label_list.append(label_pipeline(_label))\n",
    "         processed_text = torch.tensor(text_pipeline(_text), dtype=torch.int64)\n",
    "         text_list.append(processed_text)\n",
    "         offsets.append(processed_text.size(0))\n",
    "    label_list = torch.tensor(label_list, dtype=torch.int64)\n",
    "    offsets = torch.tensor(offsets[:-1]).cumsum(dim=0)\n",
    "    text_list = torch.cat(text_list)\n",
    "    return label_list.to(device), text_list.to(device), offsets.to(device)\n",
    "\n",
    "train_iter = AG_NEWS(split='train')\n",
    "dataloader = DataLoader(train_iter, batch_size=8, shuffle=False, collate_fn=collate_batch)"
   ]
  },
  {
   "cell_type": "code",
   "execution_count": 11,
   "metadata": {},
   "outputs": [],
   "source": [
    "from torch import nn\n",
    "\n",
    "class TextClassificationModel(nn.Module):\n",
    "\n",
    "    def __init__(self, vocab_size, embed_dim, num_class):\n",
    "        super(TextClassificationModel, self).__init__()\n",
    "        self.embedding = nn.EmbeddingBag(vocab_size, embed_dim, sparse=True)\n",
    "        self.fc = nn.Linear(embed_dim, num_class)\n",
    "        self.init_weights()\n",
    "\n",
    "    def init_weights(self):\n",
    "        initrange = 0.5\n",
    "        self.embedding.weight.data.uniform_(-initrange, initrange)\n",
    "        self.fc.weight.data.uniform_(-initrange, initrange)\n",
    "        self.fc.bias.data.zero_()\n",
    "\n",
    "    def forward(self, text, offsets):\n",
    "        embedded = self.embedding(text, offsets)\n",
    "        return self.fc(embedded)"
   ]
  },
  {
   "cell_type": "code",
   "execution_count": 12,
   "metadata": {},
   "outputs": [],
   "source": [
    "train_iter = AG_NEWS(split='train')\n",
    "num_class = len(set([label for (label, text) in train_iter]))\n",
    "vocab_size = len(vocab)\n",
    "emsize = 64\n",
    "model = TextClassificationModel(vocab_size, emsize, num_class).to(device)"
   ]
  },
  {
   "cell_type": "code",
   "execution_count": 13,
   "metadata": {},
   "outputs": [],
   "source": [
    "import time\n",
    "\n",
    "def train(dataloader):\n",
    "    model.train()\n",
    "    total_acc, total_count = 0, 0\n",
    "    log_interval = 500\n",
    "    start_time = time.time()\n",
    "\n",
    "    for idx, (label, text, offsets) in enumerate(dataloader):\n",
    "        optimizer.zero_grad()\n",
    "        predited_label = model(text, offsets)\n",
    "        loss = criterion(predited_label, label)\n",
    "        loss.backward()\n",
    "        torch.nn.utils.clip_grad_norm_(model.parameters(), 0.1)\n",
    "        optimizer.step()\n",
    "        total_acc += (predited_label.argmax(1) == label).sum().item()\n",
    "        total_count += label.size(0)\n",
    "        if idx % log_interval == 0 and idx > 0:\n",
    "            elapsed = time.time() - start_time\n",
    "            print('| epoch {:3d} | {:5d}/{:5d} batches '\n",
    "                  '| accuracy {:8.3f}'.format(epoch, idx, len(dataloader),\n",
    "                                              total_acc/total_count))\n",
    "            total_acc, total_count = 0, 0\n",
    "            start_time = time.time()\n",
    "\n",
    "def evaluate(dataloader):\n",
    "    model.eval()\n",
    "    total_acc, total_count = 0, 0\n",
    "\n",
    "    with torch.no_grad():\n",
    "        for idx, (label, text, offsets) in enumerate(dataloader):\n",
    "            predited_label = model(text, offsets)\n",
    "            loss = criterion(predited_label, label)\n",
    "            total_acc += (predited_label.argmax(1) == label).sum().item()\n",
    "            total_count += label.size(0)\n",
    "    return total_acc/total_count"
   ]
  },
  {
   "cell_type": "code",
   "execution_count": 14,
   "metadata": {},
   "outputs": [
    {
     "name": "stdout",
     "output_type": "stream",
     "text": [
      "| epoch   1 |   500/ 1782 batches | accuracy    0.686\n",
      "| epoch   1 |  1000/ 1782 batches | accuracy    0.853\n",
      "| epoch   1 |  1500/ 1782 batches | accuracy    0.877\n",
      "-----------------------------------------------------------\n",
      "| end of epoch   1 | time: 30.61s | valid accuracy    0.889 \n",
      "-----------------------------------------------------------\n",
      "| epoch   2 |   500/ 1782 batches | accuracy    0.895\n",
      "| epoch   2 |  1000/ 1782 batches | accuracy    0.901\n",
      "| epoch   2 |  1500/ 1782 batches | accuracy    0.902\n",
      "-----------------------------------------------------------\n",
      "| end of epoch   2 | time: 33.22s | valid accuracy    0.900 \n",
      "-----------------------------------------------------------\n",
      "| epoch   3 |   500/ 1782 batches | accuracy    0.914\n",
      "| epoch   3 |  1000/ 1782 batches | accuracy    0.913\n",
      "| epoch   3 |  1500/ 1782 batches | accuracy    0.917\n",
      "-----------------------------------------------------------\n",
      "| end of epoch   3 | time: 28.82s | valid accuracy    0.894 \n",
      "-----------------------------------------------------------\n",
      "| epoch   4 |   500/ 1782 batches | accuracy    0.929\n",
      "| epoch   4 |  1000/ 1782 batches | accuracy    0.927\n",
      "| epoch   4 |  1500/ 1782 batches | accuracy    0.932\n",
      "-----------------------------------------------------------\n",
      "| end of epoch   4 | time: 27.91s | valid accuracy    0.909 \n",
      "-----------------------------------------------------------\n",
      "| epoch   5 |   500/ 1782 batches | accuracy    0.931\n",
      "| epoch   5 |  1000/ 1782 batches | accuracy    0.932\n",
      "| epoch   5 |  1500/ 1782 batches | accuracy    0.930\n",
      "-----------------------------------------------------------\n",
      "| end of epoch   5 | time: 31.03s | valid accuracy    0.908 \n",
      "-----------------------------------------------------------\n",
      "| epoch   6 |   500/ 1782 batches | accuracy    0.933\n",
      "| epoch   6 |  1000/ 1782 batches | accuracy    0.934\n",
      "| epoch   6 |  1500/ 1782 batches | accuracy    0.931\n",
      "-----------------------------------------------------------\n",
      "| end of epoch   6 | time: 30.99s | valid accuracy    0.907 \n",
      "-----------------------------------------------------------\n",
      "| epoch   7 |   500/ 1782 batches | accuracy    0.933\n",
      "| epoch   7 |  1000/ 1782 batches | accuracy    0.933\n",
      "| epoch   7 |  1500/ 1782 batches | accuracy    0.933\n",
      "-----------------------------------------------------------\n",
      "| end of epoch   7 | time: 32.24s | valid accuracy    0.907 \n",
      "-----------------------------------------------------------\n",
      "| epoch   8 |   500/ 1782 batches | accuracy    0.933\n",
      "| epoch   8 |  1000/ 1782 batches | accuracy    0.932\n",
      "| epoch   8 |  1500/ 1782 batches | accuracy    0.933\n",
      "-----------------------------------------------------------\n",
      "| end of epoch   8 | time: 28.82s | valid accuracy    0.907 \n",
      "-----------------------------------------------------------\n",
      "| epoch   9 |   500/ 1782 batches | accuracy    0.933\n",
      "| epoch   9 |  1000/ 1782 batches | accuracy    0.933\n",
      "| epoch   9 |  1500/ 1782 batches | accuracy    0.932\n",
      "-----------------------------------------------------------\n",
      "| end of epoch   9 | time: 29.95s | valid accuracy    0.907 \n",
      "-----------------------------------------------------------\n",
      "| epoch  10 |   500/ 1782 batches | accuracy    0.932\n",
      "| epoch  10 |  1000/ 1782 batches | accuracy    0.935\n",
      "| epoch  10 |  1500/ 1782 batches | accuracy    0.932\n",
      "-----------------------------------------------------------\n",
      "| end of epoch  10 | time: 32.11s | valid accuracy    0.907 \n",
      "-----------------------------------------------------------\n"
     ]
    }
   ],
   "source": [
    "from torch.utils.data.dataset import random_split\n",
    "# Hyperparameters\n",
    "EPOCHS = 10 # epoch\n",
    "LR = 5  # learning rate\n",
    "BATCH_SIZE = 64 # batch size for training\n",
    "\n",
    "criterion = torch.nn.CrossEntropyLoss()\n",
    "optimizer = torch.optim.SGD(model.parameters(), lr=LR)\n",
    "scheduler = torch.optim.lr_scheduler.StepLR(optimizer, 1.0, gamma=0.1)\n",
    "total_accu = None\n",
    "train_iter, test_iter = AG_NEWS()\n",
    "train_dataset = list(train_iter)\n",
    "test_dataset = list(test_iter)\n",
    "num_train = int(len(train_dataset) * 0.95)\n",
    "split_train_, split_valid_ = \\\n",
    "    random_split(train_dataset, [num_train, len(train_dataset) - num_train])\n",
    "\n",
    "train_dataloader = DataLoader(split_train_, batch_size=BATCH_SIZE,\n",
    "                              shuffle=True, collate_fn=collate_batch)\n",
    "valid_dataloader = DataLoader(split_valid_, batch_size=BATCH_SIZE,\n",
    "                              shuffle=True, collate_fn=collate_batch)\n",
    "test_dataloader = DataLoader(test_dataset, batch_size=BATCH_SIZE,\n",
    "                             shuffle=True, collate_fn=collate_batch)\n",
    "\n",
    "for epoch in range(1, EPOCHS + 1):\n",
    "    epoch_start_time = time.time()\n",
    "    train(train_dataloader)\n",
    "    accu_val = evaluate(valid_dataloader)\n",
    "    if total_accu is not None and total_accu > accu_val:\n",
    "      scheduler.step()\n",
    "    else:\n",
    "       total_accu = accu_val\n",
    "    print('-' * 59)\n",
    "    print('| end of epoch {:3d} | time: {:5.2f}s | '\n",
    "          'valid accuracy {:8.3f} '.format(epoch,\n",
    "                                           time.time() - epoch_start_time,\n",
    "                                           accu_val))\n",
    "    print('-' * 59)"
   ]
  },
  {
   "cell_type": "markdown",
   "metadata": {},
   "source": [
    "# LIME"
   ]
  },
  {
   "cell_type": "code",
   "execution_count": 312,
   "metadata": {},
   "outputs": [],
   "source": [
    "def get_sample_predictions(text):\n",
    "    ag_news_label = {1: \"World\",\n",
    "                     2: \"Sports\",\n",
    "                     3: \"Business\",\n",
    "                     4: \"Sci/Tec\"}\n",
    "    prediction_probs = []\n",
    "    pred = []\n",
    "    with torch.no_grad():\n",
    "        text = torch.tensor(text_pipeline(text))\n",
    "        output = model(text, torch.tensor([0]))\n",
    "    # The output has unnormalized scores. To get probabilities, run a softmax on it.\n",
    "    prediction_probs.append(torch.nn.functional.softmax(output[0], dim=0))\n",
    "    res = output.argmax(1).item()\n",
    "    pred.append(res + 1)\n",
    "    prediction_probs = np.array([i.numpy() for i in prediction_probs])\n",
    "    return prediction_probs[0]"
   ]
  },
  {
   "cell_type": "code",
   "execution_count": 313,
   "metadata": {},
   "outputs": [],
   "source": [
    "ex_text_str2 = \"\"\"\n",
    "    GameStop shares plunged Wednesday after the long-struggling Grapevine, \n",
    "    Texas-based gameseller reported earnings that failed to impress analysts, \n",
    "    but the firm's new ecommerce push prompted one expert to release Wall Street's most bullish price target,\n",
    "    marking the first analyst to say that a turnaround could actually justify GameStop's meteoric valuation.\n",
    "\"\"\".strip().replace('\\n', '')"
   ]
  },
  {
   "cell_type": "code",
   "execution_count": 314,
   "metadata": {},
   "outputs": [
    {
     "data": {
      "text/plain": [
       "array([0.09934068, 0.00095097, 0.6346119 , 0.2650964 ], dtype=float32)"
      ]
     },
     "execution_count": 314,
     "metadata": {},
     "output_type": "execute_result"
    }
   ],
   "source": [
    "get_sample_predictions(ex_text_str2)"
   ]
  },
  {
   "cell_type": "code",
   "execution_count": 315,
   "metadata": {},
   "outputs": [],
   "source": [
    "indexer = StringTokenizer(tokenizer)\n",
    "exp = TextLIME(indexer=indexer, neighbour_version='one_off', neighbour_parameter=4)\n",
    "\n",
    "out = exp.explain_instance(ex_text_str2, get_sample_predictions, num_samples=2, labels=(2,))"
   ]
  },
  {
   "cell_type": "code",
   "execution_count": 316,
   "metadata": {},
   "outputs": [
    {
     "data": {
      "text/plain": [
       "0.6287321332017213"
      ]
     },
     "execution_count": 316,
     "metadata": {},
     "output_type": "execute_result"
    }
   ],
   "source": [
    "out.describe()[2]['prediction_score']"
   ]
  },
  {
   "cell_type": "markdown",
   "metadata": {},
   "source": [
    "# Test - part 1\n",
    "* Number of samples (neighbors)\n",
    "* Number/fraction of active tokens\n",
    "* Presence of weights\n",
    "    * Kernel width and kernel multiplier\n",
    "    * Distance metric\n",
    "* Explainable family of models\n",
    "* Alpha penalty in feature selection\n",
    "\n",
    "**Me:** num sampels, precense of weights + modifications<br>\n",
    "**Fillip:** feature selection, simple models\n",
    "\n",
    "**Both:** Find two example news stories appx 4 lines and do annotation on positive words (I do world and sceince)\n"
   ]
  },
  {
   "cell_type": "code",
   "execution_count": 317,
   "metadata": {},
   "outputs": [
    {
     "name": "stdout",
     "output_type": "stream",
     "text": [
      "The autoreload extension is already loaded. To reload it, use:\n",
      "  %reload_ext autoreload\n"
     ]
    }
   ],
   "source": [
    "%load_ext autoreload\n",
    "%autoreload 2\n",
    "\n",
    "del TextLIME\n",
    "from lime.lime_text import TextLIME\n",
    "\n",
    "del NgramTokenizer\n",
    "from lime.indexers import StringTokenizer, NgramTokenizer"
   ]
  },
  {
   "cell_type": "code",
   "execution_count": 318,
   "metadata": {},
   "outputs": [],
   "source": [
    "def get_sample_predictions(text):\n",
    "    ag_news_label = {1: \"World\",\n",
    "                     2: \"Sports\",\n",
    "                     3: \"Business\",\n",
    "                     4: \"Sci/Tec\"}\n",
    "    prediction_probs = []\n",
    "    pred = []\n",
    "    with torch.no_grad():\n",
    "        text = torch.tensor(text_pipeline(text))\n",
    "        output = model(text, torch.tensor([0]))\n",
    "    # The output has unnormalized scores. To get probabilities, run a softmax on it.\n",
    "    prediction_probs.append(torch.nn.functional.softmax(output[0], dim=0))\n",
    "    res = output.argmax(1).item()\n",
    "    pred.append(res + 1)\n",
    "    prediction_probs = np.array([i.numpy() for i in prediction_probs])\n",
    "    return prediction_probs[0]"
   ]
  },
  {
   "cell_type": "code",
   "execution_count": 319,
   "metadata": {},
   "outputs": [],
   "source": [
    "ex_world = \"\"\"\n",
    "    Australia has scrapped agreements tied to China's Belt and Road initiative, \n",
    "    prompting anger from Beijing and adding further strain to tense relations between the countries. \n",
    "    The federal government used new powers to rip up two deals made between the state of Victoria and China.\n",
    "    Canberra said it was backing away from the agreements to protect Australia's national interest.\n",
    "\"\"\".strip().replace('\\n', '')\n",
    "\n",
    "ex_world_pos1 = \"\"\"\n",
    "    agreements initiative tense relations countries federal government powers deals state agreements protect national interest\n",
    "\"\"\".strip().replace('\\n', '').split(\" \")\n",
    "\n",
    "ex_world_pos2 = \"\"\"\n",
    "    australia china beijing victoria china canberra australia\n",
    "\"\"\".strip().replace('\\n', '').split(\" \")"
   ]
  },
  {
   "cell_type": "code",
   "execution_count": 320,
   "metadata": {},
   "outputs": [],
   "source": [
    "ex_science = \"\"\"\n",
    "    Imagine wearing high-tech body armour that makes you super strong and tireless.\n",
    "    Such technology, more specifically called an exoskeleton, sounds like the preserve of the Iron Man series of superhero movies.\n",
    "    Yet the equipment is increasingly being worn in real life around the world. And one manufacturer - California's SuitX - expects it to go mainstream.\n",
    "    In simple terms, an exoskeleton is an external device that supports, covers and protects its user, giving greater levels of strength and endurance.\n",
    "\"\"\".strip().replace('\\n', '')\n",
    "\n",
    "ex_science_pos = \"\"\"\n",
    "    high-tech strong technology equipment real life manufacturer expects external device protects user levels strength\n",
    "\"\"\".strip().replace('\\n', '').split(\" \")"
   ]
  },
  {
   "cell_type": "code",
   "execution_count": 321,
   "metadata": {},
   "outputs": [],
   "source": [
    "import matplotlib.pyplot as plt\n",
    "import itertools"
   ]
  },
  {
   "cell_type": "code",
   "execution_count": 322,
   "metadata": {},
   "outputs": [],
   "source": [
    "def reformat_outs(text, settings, genre=0, min_importance=0.01, indexer=indexer):\n",
    "    text_array = np.array(indexer(text))\n",
    "    index_list = []\n",
    "    word_list = []\n",
    "    \n",
    "    for setting_a, setting_b in settings:\n",
    "        tmp = np.array(outs[setting_a][setting_b].describe()[genre]['feature_importance'])\n",
    "        coefs = tmp[:,1]\n",
    "        large_coefs_idx = np.argwhere(coefs >= min_importance).ravel()\n",
    "        word_idx = tmp[:,0][large_coefs_idx].astype(np.int)\n",
    "        word_idx.sort()\n",
    "        \n",
    "        isalpha_idx = [i.isalpha() for i in text_array[word_idx]] #Removes different puntuation\n",
    "        index_list.append(word_idx[isalpha_idx])\n",
    "        word_list.append(text_array[word_idx][isalpha_idx])\n",
    "    return index_list, word_list\n",
    "\n",
    "def reformat_anno(text, annotation, indexer=indexer):\n",
    "    text = [i.replace('-','') for i in indexer(text)]\n",
    "    annotation = [i.replace('-','') for i in annotation]\n",
    "    index_list = list(set([text.index(i) for i in annotation]))\n",
    "    index_list.sort()\n",
    "    return index_list, annotation\n",
    "\n",
    "def compare_outs(lis1, lis2):\n",
    "    l1 = set(lis1)\n",
    "    l2 = set(lis2)\n",
    "    inter = l1.intersection(l2)\n",
    "    union = l1.union(l2)\n",
    "    IoU = len(inter)/len(union)\n",
    "    return IoU"
   ]
  },
  {
   "cell_type": "markdown",
   "metadata": {},
   "source": [
    "### Test 1: Num_samples + presence of weights  \n",
    "**World**"
   ]
  },
  {
   "cell_type": "code",
   "execution_count": 323,
   "metadata": {},
   "outputs": [],
   "source": [
    "dict_labels = {0: \"World\",\n",
    "               1: \"Sports\",\n",
    "               2: \"Business\",\n",
    "               3: \"Sci/Tec\"}"
   ]
  },
  {
   "cell_type": "code",
   "execution_count": 324,
   "metadata": {},
   "outputs": [],
   "source": [
    "param_ker = [True, False]\n",
    "param_sap = [500, 750, 1000, 1250, 1500]\n",
    "\n",
    "text = ex_world\n",
    "annotation = ex_world_pos1+ex_world_pos2"
   ]
  },
  {
   "cell_type": "code",
   "execution_count": 325,
   "metadata": {},
   "outputs": [],
   "source": [
    "indexer = StringTokenizer(tokenizer)\n",
    "\n",
    "outs = {}\n",
    "for p_ker in param_ker:\n",
    "    outs['p_ker:'+str(p_ker)] = {}\n",
    "    for p_sap in param_sap:\n",
    "        LIME_exp = TextLIME(indexer=indexer,\n",
    "                    kernel_active=p_ker,\n",
    "                    feature_selection=None)\n",
    "\n",
    "        out = LIME_exp.explain_instance(text,\n",
    "                                        get_sample_predictions,\n",
    "                                        labels=(0,1,2,3), \n",
    "                                        num_samples=p_sap)\n",
    "        outs['p_ker:'+str(p_ker)]['p_sap:'+str(p_sap)] = out"
   ]
  },
  {
   "cell_type": "code",
   "execution_count": 326,
   "metadata": {},
   "outputs": [
    {
     "data": {
      "text/html": [
       "<h1>World</h1> <span style='color: green'>australia</span> <span style='color: black'>has</span> <span style='color: black'>scrapped</span> <span style='color: black'>agreements</span> <span style='color: red'>tied</span> <span style='color: black'>to</span> <span style='color: green'>china</span> <span style='color: green'>'</span> <span style='color: black'>s</span> <span style='color: black'>belt</span> <span style='color: red'>and</span> <span style='color: black'>road</span> <span style='color: black'>initiative</span> <span style='color: black'>,</span> <span style='color: black'>prompting</span> <span style='color: green'>anger</span> <span style='color: black'>from</span> <span style='color: green'>beijing</span> <span style='color: black'>and</span> <span style='color: black'>adding</span> <span style='color: black'>further</span> <span style='color: black'>strain</span> <span style='color: black'>to</span> <span style='color: green'>tense</span> <span style='color: green'>relations</span> <span style='color: red'>between</span> <span style='color: black'>the</span> <span style='color: green'>countries</span> <span style='color: green'>.</span> <span style='color: black'>the</span> <span style='color: red'>federal</span> <span style='color: green'>government</span> <span style='color: black'>used</span> <span style='color: black'>new</span> <span style='color: green'>powers</span> <span style='color: black'>to</span> <span style='color: green'>rip</span> <span style='color: black'>up</span> <span style='color: black'>two</span> <span style='color: red'>deals</span> <span style='color: red'>made</span> <span style='color: red'>between</span> <span style='color: black'>the</span> <span style='color: black'>state</span> <span style='color: black'>of</span> <span style='color: black'>victoria</span> <span style='color: black'>and</span> <span style='color: green'>china</span> <span style='color: green'>.</span> <span style='color: green'>canberra</span> <span style='color: black'>said</span> <span style='color: red'>it</span> <span style='color: green'>was</span> <span style='color: black'>backing</span> <span style='color: black'>away</span> <span style='color: red'>from</span> <span style='color: black'>the</span> <span style='color: black'>agreements</span> <span style='color: black'>to</span> <span style='color: red'>protect</span> <span style='color: green'>australia</span> <span style='color: green'>'</span> <span style='color: red'>s</span> <span style='color: black'>national</span> <span style='color: black'>interest</span> <span style='color: green'>.</span>"
      ],
      "text/plain": [
       "<IPython.core.display.HTML object>"
      ]
     },
     "metadata": {},
     "output_type": "display_data"
    },
    {
     "data": {
      "text/html": [
       "<h1>World</h1> <span style='color: green'>australia</span> <span style='color: black'>has</span> <span style='color: black'>scrapped</span> <span style='color: black'>agreements</span> <span style='color: red'>tied</span> <span style='color: black'>to</span> <span style='color: green'>china</span> <span style='color: green'>'</span> <span style='color: red'>s</span> <span style='color: black'>belt</span> <span style='color: black'>and</span> <span style='color: black'>road</span> <span style='color: black'>initiative</span> <span style='color: black'>,</span> <span style='color: black'>prompting</span> <span style='color: green'>anger</span> <span style='color: black'>from</span> <span style='color: green'>beijing</span> <span style='color: black'>and</span> <span style='color: red'>adding</span> <span style='color: black'>further</span> <span style='color: black'>strain</span> <span style='color: black'>to</span> <span style='color: green'>tense</span> <span style='color: green'>relations</span> <span style='color: red'>between</span> <span style='color: black'>the</span> <span style='color: green'>countries</span> <span style='color: green'>.</span> <span style='color: black'>the</span> <span style='color: red'>federal</span> <span style='color: green'>government</span> <span style='color: red'>used</span> <span style='color: black'>new</span> <span style='color: green'>powers</span> <span style='color: black'>to</span> <span style='color: green'>rip</span> <span style='color: black'>up</span> <span style='color: black'>two</span> <span style='color: red'>deals</span> <span style='color: red'>made</span> <span style='color: red'>between</span> <span style='color: black'>the</span> <span style='color: black'>state</span> <span style='color: black'>of</span> <span style='color: black'>victoria</span> <span style='color: black'>and</span> <span style='color: green'>china</span> <span style='color: green'>.</span> <span style='color: green'>canberra</span> <span style='color: black'>said</span> <span style='color: red'>it</span> <span style='color: green'>was</span> <span style='color: black'>backing</span> <span style='color: black'>away</span> <span style='color: black'>from</span> <span style='color: black'>the</span> <span style='color: black'>agreements</span> <span style='color: black'>to</span> <span style='color: red'>protect</span> <span style='color: green'>australia</span> <span style='color: green'>'</span> <span style='color: red'>s</span> <span style='color: black'>national</span> <span style='color: black'>interest</span> <span style='color: green'>.</span>"
      ],
      "text/plain": [
       "<IPython.core.display.HTML object>"
      ]
     },
     "metadata": {},
     "output_type": "display_data"
    },
    {
     "data": {
      "text/html": [
       "<h1>World</h1> <span style='color: green'>australia</span> <span style='color: red'>has</span> <span style='color: black'>scrapped</span> <span style='color: black'>agreements</span> <span style='color: red'>tied</span> <span style='color: black'>to</span> <span style='color: green'>china</span> <span style='color: green'>'</span> <span style='color: red'>s</span> <span style='color: black'>belt</span> <span style='color: black'>and</span> <span style='color: red'>road</span> <span style='color: black'>initiative</span> <span style='color: black'>,</span> <span style='color: black'>prompting</span> <span style='color: green'>anger</span> <span style='color: black'>from</span> <span style='color: green'>beijing</span> <span style='color: black'>and</span> <span style='color: black'>adding</span> <span style='color: black'>further</span> <span style='color: red'>strain</span> <span style='color: black'>to</span> <span style='color: green'>tense</span> <span style='color: green'>relations</span> <span style='color: red'>between</span> <span style='color: black'>the</span> <span style='color: black'>countries</span> <span style='color: green'>.</span> <span style='color: black'>the</span> <span style='color: red'>federal</span> <span style='color: green'>government</span> <span style='color: red'>used</span> <span style='color: black'>new</span> <span style='color: green'>powers</span> <span style='color: black'>to</span> <span style='color: green'>rip</span> <span style='color: red'>up</span> <span style='color: black'>two</span> <span style='color: red'>deals</span> <span style='color: red'>made</span> <span style='color: black'>between</span> <span style='color: black'>the</span> <span style='color: black'>state</span> <span style='color: black'>of</span> <span style='color: black'>victoria</span> <span style='color: black'>and</span> <span style='color: green'>china</span> <span style='color: green'>.</span> <span style='color: green'>canberra</span> <span style='color: black'>said</span> <span style='color: red'>it</span> <span style='color: green'>was</span> <span style='color: black'>backing</span> <span style='color: black'>away</span> <span style='color: black'>from</span> <span style='color: black'>the</span> <span style='color: black'>agreements</span> <span style='color: black'>to</span> <span style='color: red'>protect</span> <span style='color: green'>australia</span> <span style='color: green'>'</span> <span style='color: red'>s</span> <span style='color: black'>national</span> <span style='color: black'>interest</span> <span style='color: green'>.</span>"
      ],
      "text/plain": [
       "<IPython.core.display.HTML object>"
      ]
     },
     "metadata": {},
     "output_type": "display_data"
    },
    {
     "data": {
      "text/html": [
       "<h1>World</h1> <span style='color: green'>australia</span> <span style='color: black'>has</span> <span style='color: black'>scrapped</span> <span style='color: black'>agreements</span> <span style='color: red'>tied</span> <span style='color: black'>to</span> <span style='color: green'>china</span> <span style='color: green'>'</span> <span style='color: red'>s</span> <span style='color: black'>belt</span> <span style='color: black'>and</span> <span style='color: black'>road</span> <span style='color: black'>initiative</span> <span style='color: black'>,</span> <span style='color: black'>prompting</span> <span style='color: green'>anger</span> <span style='color: black'>from</span> <span style='color: green'>beijing</span> <span style='color: black'>and</span> <span style='color: red'>adding</span> <span style='color: black'>further</span> <span style='color: black'>strain</span> <span style='color: black'>to</span> <span style='color: green'>tense</span> <span style='color: green'>relations</span> <span style='color: black'>between</span> <span style='color: black'>the</span> <span style='color: green'>countries</span> <span style='color: green'>.</span> <span style='color: black'>the</span> <span style='color: red'>federal</span> <span style='color: green'>government</span> <span style='color: red'>used</span> <span style='color: black'>new</span> <span style='color: black'>powers</span> <span style='color: black'>to</span> <span style='color: green'>rip</span> <span style='color: red'>up</span> <span style='color: black'>two</span> <span style='color: red'>deals</span> <span style='color: red'>made</span> <span style='color: red'>between</span> <span style='color: black'>the</span> <span style='color: black'>state</span> <span style='color: black'>of</span> <span style='color: black'>victoria</span> <span style='color: black'>and</span> <span style='color: green'>china</span> <span style='color: green'>.</span> <span style='color: green'>canberra</span> <span style='color: black'>said</span> <span style='color: red'>it</span> <span style='color: green'>was</span> <span style='color: black'>backing</span> <span style='color: black'>away</span> <span style='color: black'>from</span> <span style='color: black'>the</span> <span style='color: black'>agreements</span> <span style='color: black'>to</span> <span style='color: red'>protect</span> <span style='color: green'>australia</span> <span style='color: green'>'</span> <span style='color: red'>s</span> <span style='color: black'>national</span> <span style='color: black'>interest</span> <span style='color: green'>.</span>"
      ],
      "text/plain": [
       "<IPython.core.display.HTML object>"
      ]
     },
     "metadata": {},
     "output_type": "display_data"
    },
    {
     "data": {
      "text/html": [
       "<h1>World</h1> <span style='color: green'>australia</span> <span style='color: black'>has</span> <span style='color: black'>scrapped</span> <span style='color: black'>agreements</span> <span style='color: red'>tied</span> <span style='color: black'>to</span> <span style='color: green'>china</span> <span style='color: green'>'</span> <span style='color: red'>s</span> <span style='color: black'>belt</span> <span style='color: black'>and</span> <span style='color: black'>road</span> <span style='color: black'>initiative</span> <span style='color: black'>,</span> <span style='color: black'>prompting</span> <span style='color: green'>anger</span> <span style='color: red'>from</span> <span style='color: green'>beijing</span> <span style='color: black'>and</span> <span style='color: red'>adding</span> <span style='color: black'>further</span> <span style='color: red'>strain</span> <span style='color: black'>to</span> <span style='color: green'>tense</span> <span style='color: green'>relations</span> <span style='color: red'>between</span> <span style='color: black'>the</span> <span style='color: green'>countries</span> <span style='color: green'>.</span> <span style='color: black'>the</span> <span style='color: red'>federal</span> <span style='color: green'>government</span> <span style='color: black'>used</span> <span style='color: black'>new</span> <span style='color: black'>powers</span> <span style='color: black'>to</span> <span style='color: green'>rip</span> <span style='color: red'>up</span> <span style='color: black'>two</span> <span style='color: red'>deals</span> <span style='color: red'>made</span> <span style='color: red'>between</span> <span style='color: black'>the</span> <span style='color: black'>state</span> <span style='color: black'>of</span> <span style='color: black'>victoria</span> <span style='color: black'>and</span> <span style='color: green'>china</span> <span style='color: green'>.</span> <span style='color: green'>canberra</span> <span style='color: black'>said</span> <span style='color: red'>it</span> <span style='color: green'>was</span> <span style='color: black'>backing</span> <span style='color: black'>away</span> <span style='color: black'>from</span> <span style='color: black'>the</span> <span style='color: black'>agreements</span> <span style='color: black'>to</span> <span style='color: red'>protect</span> <span style='color: green'>australia</span> <span style='color: green'>'</span> <span style='color: black'>s</span> <span style='color: black'>national</span> <span style='color: black'>interest</span> <span style='color: green'>.</span>"
      ],
      "text/plain": [
       "<IPython.core.display.HTML object>"
      ]
     },
     "metadata": {},
     "output_type": "display_data"
    },
    {
     "data": {
      "text/html": [
       "<h1>World</h1> <span style='color: green'>australia</span> <span style='color: black'>has</span> <span style='color: black'>scrapped</span> <span style='color: black'>agreements</span> <span style='color: red'>tied</span> <span style='color: black'>to</span> <span style='color: green'>china</span> <span style='color: green'>'</span> <span style='color: red'>s</span> <span style='color: black'>belt</span> <span style='color: black'>and</span> <span style='color: black'>road</span> <span style='color: black'>initiative</span> <span style='color: red'>,</span> <span style='color: black'>prompting</span> <span style='color: green'>anger</span> <span style='color: black'>from</span> <span style='color: green'>beijing</span> <span style='color: red'>and</span> <span style='color: red'>adding</span> <span style='color: black'>further</span> <span style='color: red'>strain</span> <span style='color: black'>to</span> <span style='color: green'>tense</span> <span style='color: green'>relations</span> <span style='color: black'>between</span> <span style='color: black'>the</span> <span style='color: green'>countries</span> <span style='color: green'>.</span> <span style='color: black'>the</span> <span style='color: red'>federal</span> <span style='color: green'>government</span> <span style='color: black'>used</span> <span style='color: black'>new</span> <span style='color: green'>powers</span> <span style='color: black'>to</span> <span style='color: green'>rip</span> <span style='color: red'>up</span> <span style='color: black'>two</span> <span style='color: red'>deals</span> <span style='color: red'>made</span> <span style='color: black'>between</span> <span style='color: black'>the</span> <span style='color: black'>state</span> <span style='color: black'>of</span> <span style='color: black'>victoria</span> <span style='color: red'>and</span> <span style='color: green'>china</span> <span style='color: green'>.</span> <span style='color: green'>canberra</span> <span style='color: black'>said</span> <span style='color: red'>it</span> <span style='color: green'>was</span> <span style='color: black'>backing</span> <span style='color: black'>away</span> <span style='color: black'>from</span> <span style='color: black'>the</span> <span style='color: black'>agreements</span> <span style='color: black'>to</span> <span style='color: red'>protect</span> <span style='color: green'>australia</span> <span style='color: green'>'</span> <span style='color: black'>s</span> <span style='color: black'>national</span> <span style='color: black'>interest</span> <span style='color: green'>.</span>"
      ],
      "text/plain": [
       "<IPython.core.display.HTML object>"
      ]
     },
     "metadata": {},
     "output_type": "display_data"
    },
    {
     "data": {
      "text/html": [
       "<h1>World</h1> <span style='color: green'>australia</span> <span style='color: black'>has</span> <span style='color: black'>scrapped</span> <span style='color: black'>agreements</span> <span style='color: red'>tied</span> <span style='color: black'>to</span> <span style='color: green'>china</span> <span style='color: green'>'</span> <span style='color: red'>s</span> <span style='color: black'>belt</span> <span style='color: black'>and</span> <span style='color: black'>road</span> <span style='color: black'>initiative</span> <span style='color: black'>,</span> <span style='color: black'>prompting</span> <span style='color: green'>anger</span> <span style='color: black'>from</span> <span style='color: green'>beijing</span> <span style='color: black'>and</span> <span style='color: red'>adding</span> <span style='color: black'>further</span> <span style='color: black'>strain</span> <span style='color: black'>to</span> <span style='color: green'>tense</span> <span style='color: green'>relations</span> <span style='color: red'>between</span> <span style='color: black'>the</span> <span style='color: green'>countries</span> <span style='color: green'>.</span> <span style='color: black'>the</span> <span style='color: red'>federal</span> <span style='color: green'>government</span> <span style='color: red'>used</span> <span style='color: black'>new</span> <span style='color: green'>powers</span> <span style='color: black'>to</span> <span style='color: green'>rip</span> <span style='color: red'>up</span> <span style='color: black'>two</span> <span style='color: red'>deals</span> <span style='color: red'>made</span> <span style='color: red'>between</span> <span style='color: black'>the</span> <span style='color: black'>state</span> <span style='color: black'>of</span> <span style='color: black'>victoria</span> <span style='color: black'>and</span> <span style='color: green'>china</span> <span style='color: green'>.</span> <span style='color: green'>canberra</span> <span style='color: black'>said</span> <span style='color: red'>it</span> <span style='color: green'>was</span> <span style='color: black'>backing</span> <span style='color: black'>away</span> <span style='color: black'>from</span> <span style='color: black'>the</span> <span style='color: green'>agreements</span> <span style='color: black'>to</span> <span style='color: red'>protect</span> <span style='color: green'>australia</span> <span style='color: green'>'</span> <span style='color: black'>s</span> <span style='color: black'>national</span> <span style='color: black'>interest</span> <span style='color: green'>.</span>"
      ],
      "text/plain": [
       "<IPython.core.display.HTML object>"
      ]
     },
     "metadata": {},
     "output_type": "display_data"
    },
    {
     "data": {
      "text/html": [
       "<h1>World</h1> <span style='color: green'>australia</span> <span style='color: black'>has</span> <span style='color: green'>scrapped</span> <span style='color: black'>agreements</span> <span style='color: red'>tied</span> <span style='color: black'>to</span> <span style='color: green'>china</span> <span style='color: green'>'</span> <span style='color: red'>s</span> <span style='color: black'>belt</span> <span style='color: black'>and</span> <span style='color: red'>road</span> <span style='color: black'>initiative</span> <span style='color: black'>,</span> <span style='color: black'>prompting</span> <span style='color: green'>anger</span> <span style='color: black'>from</span> <span style='color: green'>beijing</span> <span style='color: black'>and</span> <span style='color: black'>adding</span> <span style='color: black'>further</span> <span style='color: black'>strain</span> <span style='color: black'>to</span> <span style='color: green'>tense</span> <span style='color: green'>relations</span> <span style='color: black'>between</span> <span style='color: black'>the</span> <span style='color: green'>countries</span> <span style='color: green'>.</span> <span style='color: black'>the</span> <span style='color: red'>federal</span> <span style='color: green'>government</span> <span style='color: red'>used</span> <span style='color: black'>new</span> <span style='color: black'>powers</span> <span style='color: black'>to</span> <span style='color: green'>rip</span> <span style='color: red'>up</span> <span style='color: black'>two</span> <span style='color: red'>deals</span> <span style='color: red'>made</span> <span style='color: red'>between</span> <span style='color: black'>the</span> <span style='color: black'>state</span> <span style='color: black'>of</span> <span style='color: black'>victoria</span> <span style='color: black'>and</span> <span style='color: green'>china</span> <span style='color: green'>.</span> <span style='color: green'>canberra</span> <span style='color: black'>said</span> <span style='color: red'>it</span> <span style='color: black'>was</span> <span style='color: black'>backing</span> <span style='color: black'>away</span> <span style='color: black'>from</span> <span style='color: black'>the</span> <span style='color: black'>agreements</span> <span style='color: black'>to</span> <span style='color: red'>protect</span> <span style='color: green'>australia</span> <span style='color: green'>'</span> <span style='color: red'>s</span> <span style='color: black'>national</span> <span style='color: black'>interest</span> <span style='color: green'>.</span>"
      ],
      "text/plain": [
       "<IPython.core.display.HTML object>"
      ]
     },
     "metadata": {},
     "output_type": "display_data"
    },
    {
     "data": {
      "text/html": [
       "<h1>World</h1> <span style='color: green'>australia</span> <span style='color: black'>has</span> <span style='color: black'>scrapped</span> <span style='color: black'>agreements</span> <span style='color: red'>tied</span> <span style='color: black'>to</span> <span style='color: green'>china</span> <span style='color: green'>'</span> <span style='color: red'>s</span> <span style='color: black'>belt</span> <span style='color: black'>and</span> <span style='color: black'>road</span> <span style='color: black'>initiative</span> <span style='color: black'>,</span> <span style='color: black'>prompting</span> <span style='color: green'>anger</span> <span style='color: black'>from</span> <span style='color: green'>beijing</span> <span style='color: black'>and</span> <span style='color: red'>adding</span> <span style='color: black'>further</span> <span style='color: red'>strain</span> <span style='color: black'>to</span> <span style='color: green'>tense</span> <span style='color: green'>relations</span> <span style='color: red'>between</span> <span style='color: black'>the</span> <span style='color: black'>countries</span> <span style='color: green'>.</span> <span style='color: black'>the</span> <span style='color: red'>federal</span> <span style='color: green'>government</span> <span style='color: red'>used</span> <span style='color: black'>new</span> <span style='color: black'>powers</span> <span style='color: black'>to</span> <span style='color: green'>rip</span> <span style='color: red'>up</span> <span style='color: black'>two</span> <span style='color: red'>deals</span> <span style='color: red'>made</span> <span style='color: red'>between</span> <span style='color: black'>the</span> <span style='color: black'>state</span> <span style='color: black'>of</span> <span style='color: black'>victoria</span> <span style='color: black'>and</span> <span style='color: green'>china</span> <span style='color: green'>.</span> <span style='color: green'>canberra</span> <span style='color: black'>said</span> <span style='color: red'>it</span> <span style='color: green'>was</span> <span style='color: black'>backing</span> <span style='color: black'>away</span> <span style='color: black'>from</span> <span style='color: black'>the</span> <span style='color: black'>agreements</span> <span style='color: black'>to</span> <span style='color: red'>protect</span> <span style='color: green'>australia</span> <span style='color: green'>'</span> <span style='color: red'>s</span> <span style='color: black'>national</span> <span style='color: black'>interest</span> <span style='color: green'>.</span>"
      ],
      "text/plain": [
       "<IPython.core.display.HTML object>"
      ]
     },
     "metadata": {},
     "output_type": "display_data"
    },
    {
     "data": {
      "text/html": [
       "<h1>World</h1> <span style='color: green'>australia</span> <span style='color: red'>has</span> <span style='color: green'>scrapped</span> <span style='color: black'>agreements</span> <span style='color: red'>tied</span> <span style='color: black'>to</span> <span style='color: green'>china</span> <span style='color: green'>'</span> <span style='color: red'>s</span> <span style='color: black'>belt</span> <span style='color: black'>and</span> <span style='color: black'>road</span> <span style='color: black'>initiative</span> <span style='color: black'>,</span> <span style='color: black'>prompting</span> <span style='color: green'>anger</span> <span style='color: black'>from</span> <span style='color: green'>beijing</span> <span style='color: black'>and</span> <span style='color: red'>adding</span> <span style='color: black'>further</span> <span style='color: red'>strain</span> <span style='color: black'>to</span> <span style='color: green'>tense</span> <span style='color: green'>relations</span> <span style='color: black'>between</span> <span style='color: black'>the</span> <span style='color: black'>countries</span> <span style='color: green'>.</span> <span style='color: black'>the</span> <span style='color: red'>federal</span> <span style='color: green'>government</span> <span style='color: red'>used</span> <span style='color: black'>new</span> <span style='color: green'>powers</span> <span style='color: black'>to</span> <span style='color: green'>rip</span> <span style='color: black'>up</span> <span style='color: black'>two</span> <span style='color: red'>deals</span> <span style='color: red'>made</span> <span style='color: red'>between</span> <span style='color: black'>the</span> <span style='color: black'>state</span> <span style='color: black'>of</span> <span style='color: black'>victoria</span> <span style='color: black'>and</span> <span style='color: green'>china</span> <span style='color: green'>.</span> <span style='color: green'>canberra</span> <span style='color: black'>said</span> <span style='color: red'>it</span> <span style='color: green'>was</span> <span style='color: black'>backing</span> <span style='color: black'>away</span> <span style='color: black'>from</span> <span style='color: black'>the</span> <span style='color: black'>agreements</span> <span style='color: black'>to</span> <span style='color: red'>protect</span> <span style='color: green'>australia</span> <span style='color: green'>'</span> <span style='color: red'>s</span> <span style='color: black'>national</span> <span style='color: black'>interest</span> <span style='color: green'>.</span>"
      ],
      "text/plain": [
       "<IPython.core.display.HTML object>"
      ]
     },
     "metadata": {},
     "output_type": "display_data"
    }
   ],
   "source": [
    "for p_ker in param_ker:\n",
    "    for p_sap in param_sap:\n",
    "        display(outs['p_ker:'+str(p_ker)]['p_sap:'+str(p_sap)].visualize_text({0: \"World\"}, 0.02))"
   ]
  },
  {
   "cell_type": "code",
   "execution_count": 327,
   "metadata": {},
   "outputs": [],
   "source": [
    "#display(outs['p_ker:True']['p_sap:500'].visualize_words(dict_labels, 7))"
   ]
  },
  {
   "cell_type": "code",
   "execution_count": 328,
   "metadata": {},
   "outputs": [],
   "source": [
    "#outs['p_ker:True']['p_sap:500'].describe()[2]['prediction_score']"
   ]
  },
  {
   "cell_type": "code",
   "execution_count": 329,
   "metadata": {},
   "outputs": [],
   "source": [
    "settings = [('p_ker:'+str(p_ker),'p_sap:'+str(p_sap)) for p_ker,p_sap in itertools.product(param_ker,param_sap)]\n",
    "idx, wrd = reformat_outs(text, settings, 0)\n",
    "idx_anno, anno_new = reformat_anno(text, annotation)"
   ]
  },
  {
   "cell_type": "code",
   "execution_count": 330,
   "metadata": {},
   "outputs": [],
   "source": [
    "#for i,j in itertools.combinations(range(len(settings)), 2):\n",
    "#    print(i,j,':',compare_outs(idx[i], idx[j]))"
   ]
  },
  {
   "cell_type": "code",
   "execution_count": 331,
   "metadata": {},
   "outputs": [
    {
     "data": {
      "image/png": "[encoded data removed]",
      "text/plain": [
       "<Figure size 432x288 with 2 Axes>"
      ]
     },
     "metadata": {
      "needs_background": "light"
     },
     "output_type": "display_data"
    }
   ],
   "source": [
    "plot_array = np.ones((10,10))\n",
    "for i,j in itertools.permutations(range(len(settings)), 2):\n",
    "    plot_array[i,j] = compare_outs(idx[i], idx[j])\n",
    "plt.imshow(plot_array)\n",
    "plt.colorbar()\n",
    "plt.title('Intersection over Union')\n",
    "l=list(range(10))\n",
    "x=[settings[i] for i in range(10)]\n",
    "\n",
    "plt.gca().set_xticks(l)\n",
    "plt.gca().set_xticklabels(x, rotation=90)\n",
    "plt.gca().set_yticks(l)\n",
    "plt.gca().set_yticklabels(x)\n",
    "plt.show()"
   ]
  },
  {
   "cell_type": "code",
   "execution_count": 332,
   "metadata": {},
   "outputs": [
    {
     "name": "stdout",
     "output_type": "stream",
     "text": [
      "('p_ker:True', 'p_sap:500')\n",
      "('p_ker:False', 'p_sap:500')\n"
     ]
    }
   ],
   "source": [
    "print(settings[0])\n",
    "print(settings[5])"
   ]
  },
  {
   "cell_type": "code",
   "execution_count": 333,
   "metadata": {},
   "outputs": [
    {
     "name": "stdout",
     "output_type": "stream",
     "text": [
      "0 : 0.4074074074074074\n",
      "1 : 0.4074074074074074\n",
      "2 : 0.38461538461538464\n",
      "3 : 0.38461538461538464\n",
      "4 : 0.37037037037037035\n",
      "5 : 0.3333333333333333\n",
      "6 : 0.4074074074074074\n",
      "7 : 0.36\n",
      "8 : 0.36\n",
      "9 : 0.44\n"
     ]
    }
   ],
   "source": [
    "for i in range(len(settings)):\n",
    "    print(i,':',compare_outs(idx[i], idx_anno))"
   ]
  },
  {
   "cell_type": "code",
   "execution_count": 334,
   "metadata": {},
   "outputs": [
    {
     "name": "stdout",
     "output_type": "stream",
     "text": [
      "('p_ker:False', 'p_sap:1500')\n"
     ]
    }
   ],
   "source": [
    "print(settings[9])"
   ]
  },
  {
   "cell_type": "code",
   "execution_count": null,
   "metadata": {},
   "outputs": [],
   "source": [
    "plot_array = np.ones((10,1))\n",
    "for i in range(len(settings)):\n",
    "    plot_array[i] = compare_outs(idx[i], idx_anno)\n",
    "plt.imshow(plot_array, vmax = 0.27, vmin = 0.23)\n",
    "plt.colorbar()\n",
    "plt.title('Intersection over Union compared to annotation')\n",
    "l=list(range(10))\n",
    "x=[settings[i] for i in range(10)]\n",
    "\n",
    "plt.gca().set_yticks(l)\n",
    "plt.gca().set_yticklabels(x)\n",
    "plt.gca().set_xticks([1])\n",
    "plt.show()"
   ]
  },
  {
   "cell_type": "markdown",
   "metadata": {},
   "source": [
    "### Test 1: Num_samples + presence of weights  \n",
    "**Science**"
   ]
  },
  {
   "cell_type": "code",
   "execution_count": 335,
   "metadata": {},
   "outputs": [],
   "source": [
    "dict_labels = {0: \"World\",\n",
    "               1: \"Sports\",\n",
    "               2: \"Business\",\n",
    "               3: \"Sci/Tec\"}"
   ]
  },
  {
   "cell_type": "code",
   "execution_count": 336,
   "metadata": {},
   "outputs": [],
   "source": [
    "param_ker = [True, False]\n",
    "param_sap = [500, 750, 1000, 1250, 1500]\n",
    "\n",
    "text = ex_science\n",
    "annotation = ex_science_pos"
   ]
  },
  {
   "cell_type": "code",
   "execution_count": 337,
   "metadata": {},
   "outputs": [],
   "source": [
    "indexer = StringTokenizer(tokenizer)\n",
    "\n",
    "outs = {}\n",
    "for p_ker in param_ker:\n",
    "    outs['p_ker:'+str(p_ker)] = {}\n",
    "    for p_sap in param_sap:\n",
    "        LIME_exp = TextLIME(indexer=indexer,\n",
    "                    kernel_active=p_ker,\n",
    "                    feature_selection=None)\n",
    "\n",
    "        out = LIME_exp.explain_instance(text,\n",
    "                                        get_sample_predictions,\n",
    "                                        labels=(0,1,2,3), \n",
    "                                        num_samples=p_sap)\n",
    "        outs['p_ker:'+str(p_ker)]['p_sap:'+str(p_sap)] = out"
   ]
  },
  {
   "cell_type": "code",
   "execution_count": 338,
   "metadata": {},
   "outputs": [
    {
     "data": {
      "text/html": [
       "<h1>Sci/Tec</h1> <span style='color: red'>imagine</span> <span style='color: black'>wearing</span> <span style='color: green'>high-tech</span> <span style='color: green'>body</span> <span style='color: black'>armour</span> <span style='color: black'>that</span> <span style='color: black'>makes</span> <span style='color: green'>you</span> <span style='color: green'>super</span> <span style='color: red'>strong</span> <span style='color: black'>and</span> <span style='color: black'>tireless</span> <span style='color: red'>.</span> <span style='color: green'>such</span> <span style='color: green'>technology</span> <span style='color: black'>,</span> <span style='color: black'>more</span> <span style='color: black'>specifically</span> <span style='color: green'>called</span> <span style='color: black'>an</span> <span style='color: black'>exoskeleton</span> <span style='color: black'>,</span> <span style='color: green'>sounds</span> <span style='color: red'>like</span> <span style='color: black'>the</span> <span style='color: green'>preserve</span> <span style='color: black'>of</span> <span style='color: black'>the</span> <span style='color: black'>iron</span> <span style='color: black'>man</span> <span style='color: black'>series</span> <span style='color: black'>of</span> <span style='color: red'>superhero</span> <span style='color: black'>movies</span> <span style='color: red'>.</span> <span style='color: black'>yet</span> <span style='color: black'>the</span> <span style='color: green'>equipment</span> <span style='color: red'>is</span> <span style='color: black'>increasingly</span> <span style='color: green'>being</span> <span style='color: red'>worn</span> <span style='color: black'>in</span> <span style='color: black'>real</span> <span style='color: black'>life</span> <span style='color: green'>around</span> <span style='color: black'>the</span> <span style='color: black'>world</span> <span style='color: black'>.</span> <span style='color: black'>and</span> <span style='color: black'>one</span> <span style='color: black'>manufacturer</span> <span style='color: red'>-</span> <span style='color: green'>california</span> <span style='color: black'>'</span> <span style='color: black'>s</span> <span style='color: black'>suitx</span> <span style='color: red'>-</span> <span style='color: green'>expects</span> <span style='color: green'>it</span> <span style='color: black'>to</span> <span style='color: black'>go</span> <span style='color: black'>mainstream</span> <span style='color: red'>.</span> <span style='color: black'>in</span> <span style='color: red'>simple</span> <span style='color: black'>terms</span> <span style='color: black'>,</span> <span style='color: black'>an</span> <span style='color: black'>exoskeleton</span> <span style='color: black'>is</span> <span style='color: black'>an</span> <span style='color: green'>external</span> <span style='color: black'>device</span> <span style='color: black'>that</span> <span style='color: black'>supports</span> <span style='color: black'>,</span> <span style='color: red'>covers</span> <span style='color: black'>and</span> <span style='color: red'>protects</span> <span style='color: red'>its</span> <span style='color: green'>user</span> <span style='color: black'>,</span> <span style='color: red'>giving</span> <span style='color: red'>greater</span> <span style='color: green'>levels</span> <span style='color: black'>of</span> <span style='color: red'>strength</span> <span style='color: black'>and</span> <span style='color: red'>endurance</span> <span style='color: red'>.</span>"
      ],
      "text/plain": [
       "<IPython.core.display.HTML object>"
      ]
     },
     "metadata": {},
     "output_type": "display_data"
    },
    {
     "data": {
      "text/html": [
       "<h1>Sci/Tec</h1> <span style='color: red'>imagine</span> <span style='color: black'>wearing</span> <span style='color: green'>high-tech</span> <span style='color: green'>body</span> <span style='color: black'>armour</span> <span style='color: black'>that</span> <span style='color: black'>makes</span> <span style='color: green'>you</span> <span style='color: green'>super</span> <span style='color: red'>strong</span> <span style='color: black'>and</span> <span style='color: black'>tireless</span> <span style='color: black'>.</span> <span style='color: green'>such</span> <span style='color: green'>technology</span> <span style='color: black'>,</span> <span style='color: black'>more</span> <span style='color: black'>specifically</span> <span style='color: green'>called</span> <span style='color: black'>an</span> <span style='color: black'>exoskeleton</span> <span style='color: black'>,</span> <span style='color: green'>sounds</span> <span style='color: red'>like</span> <span style='color: black'>the</span> <span style='color: green'>preserve</span> <span style='color: black'>of</span> <span style='color: black'>the</span> <span style='color: black'>iron</span> <span style='color: black'>man</span> <span style='color: black'>series</span> <span style='color: black'>of</span> <span style='color: black'>superhero</span> <span style='color: black'>movies</span> <span style='color: red'>.</span> <span style='color: black'>yet</span> <span style='color: black'>the</span> <span style='color: green'>equipment</span> <span style='color: black'>is</span> <span style='color: black'>increasingly</span> <span style='color: green'>being</span> <span style='color: red'>worn</span> <span style='color: black'>in</span> <span style='color: green'>real</span> <span style='color: black'>life</span> <span style='color: green'>around</span> <span style='color: black'>the</span> <span style='color: black'>world</span> <span style='color: red'>.</span> <span style='color: black'>and</span> <span style='color: black'>one</span> <span style='color: black'>manufacturer</span> <span style='color: red'>-</span> <span style='color: green'>california</span> <span style='color: black'>'</span> <span style='color: black'>s</span> <span style='color: black'>suitx</span> <span style='color: red'>-</span> <span style='color: green'>expects</span> <span style='color: green'>it</span> <span style='color: black'>to</span> <span style='color: black'>go</span> <span style='color: black'>mainstream</span> <span style='color: red'>.</span> <span style='color: black'>in</span> <span style='color: black'>simple</span> <span style='color: black'>terms</span> <span style='color: black'>,</span> <span style='color: black'>an</span> <span style='color: black'>exoskeleton</span> <span style='color: black'>is</span> <span style='color: black'>an</span> <span style='color: green'>external</span> <span style='color: black'>device</span> <span style='color: black'>that</span> <span style='color: black'>supports</span> <span style='color: black'>,</span> <span style='color: red'>covers</span> <span style='color: black'>and</span> <span style='color: red'>protects</span> <span style='color: red'>its</span> <span style='color: green'>user</span> <span style='color: black'>,</span> <span style='color: red'>giving</span> <span style='color: red'>greater</span> <span style='color: green'>levels</span> <span style='color: black'>of</span> <span style='color: red'>strength</span> <span style='color: black'>and</span> <span style='color: red'>endurance</span> <span style='color: red'>.</span>"
      ],
      "text/plain": [
       "<IPython.core.display.HTML object>"
      ]
     },
     "metadata": {},
     "output_type": "display_data"
    },
    {
     "data": {
      "text/html": [
       "<h1>Sci/Tec</h1> <span style='color: red'>imagine</span> <span style='color: red'>wearing</span> <span style='color: green'>high-tech</span> <span style='color: black'>body</span> <span style='color: black'>armour</span> <span style='color: black'>that</span> <span style='color: black'>makes</span> <span style='color: green'>you</span> <span style='color: green'>super</span> <span style='color: red'>strong</span> <span style='color: black'>and</span> <span style='color: black'>tireless</span> <span style='color: red'>.</span> <span style='color: green'>such</span> <span style='color: green'>technology</span> <span style='color: black'>,</span> <span style='color: black'>more</span> <span style='color: black'>specifically</span> <span style='color: green'>called</span> <span style='color: black'>an</span> <span style='color: black'>exoskeleton</span> <span style='color: black'>,</span> <span style='color: green'>sounds</span> <span style='color: red'>like</span> <span style='color: black'>the</span> <span style='color: green'>preserve</span> <span style='color: black'>of</span> <span style='color: black'>the</span> <span style='color: black'>iron</span> <span style='color: black'>man</span> <span style='color: black'>series</span> <span style='color: black'>of</span> <span style='color: red'>superhero</span> <span style='color: black'>movies</span> <span style='color: black'>.</span> <span style='color: black'>yet</span> <span style='color: black'>the</span> <span style='color: green'>equipment</span> <span style='color: black'>is</span> <span style='color: black'>increasingly</span> <span style='color: green'>being</span> <span style='color: red'>worn</span> <span style='color: black'>in</span> <span style='color: black'>real</span> <span style='color: green'>life</span> <span style='color: green'>around</span> <span style='color: black'>the</span> <span style='color: black'>world</span> <span style='color: black'>.</span> <span style='color: black'>and</span> <span style='color: black'>one</span> <span style='color: black'>manufacturer</span> <span style='color: red'>-</span> <span style='color: green'>california</span> <span style='color: black'>'</span> <span style='color: black'>s</span> <span style='color: black'>suitx</span> <span style='color: red'>-</span> <span style='color: green'>expects</span> <span style='color: green'>it</span> <span style='color: black'>to</span> <span style='color: black'>go</span> <span style='color: black'>mainstream</span> <span style='color: black'>.</span> <span style='color: black'>in</span> <span style='color: black'>simple</span> <span style='color: black'>terms</span> <span style='color: black'>,</span> <span style='color: black'>an</span> <span style='color: black'>exoskeleton</span> <span style='color: black'>is</span> <span style='color: black'>an</span> <span style='color: green'>external</span> <span style='color: black'>device</span> <span style='color: black'>that</span> <span style='color: black'>supports</span> <span style='color: black'>,</span> <span style='color: red'>covers</span> <span style='color: black'>and</span> <span style='color: red'>protects</span> <span style='color: red'>its</span> <span style='color: green'>user</span> <span style='color: black'>,</span> <span style='color: red'>giving</span> <span style='color: red'>greater</span> <span style='color: green'>levels</span> <span style='color: black'>of</span> <span style='color: red'>strength</span> <span style='color: black'>and</span> <span style='color: red'>endurance</span> <span style='color: red'>.</span>"
      ],
      "text/plain": [
       "<IPython.core.display.HTML object>"
      ]
     },
     "metadata": {},
     "output_type": "display_data"
    },
    {
     "data": {
      "text/html": [
       "<h1>Sci/Tec</h1> <span style='color: red'>imagine</span> <span style='color: black'>wearing</span> <span style='color: green'>high-tech</span> <span style='color: green'>body</span> <span style='color: black'>armour</span> <span style='color: black'>that</span> <span style='color: black'>makes</span> <span style='color: green'>you</span> <span style='color: green'>super</span> <span style='color: red'>strong</span> <span style='color: black'>and</span> <span style='color: black'>tireless</span> <span style='color: red'>.</span> <span style='color: green'>such</span> <span style='color: green'>technology</span> <span style='color: black'>,</span> <span style='color: black'>more</span> <span style='color: black'>specifically</span> <span style='color: green'>called</span> <span style='color: black'>an</span> <span style='color: black'>exoskeleton</span> <span style='color: black'>,</span> <span style='color: green'>sounds</span> <span style='color: red'>like</span> <span style='color: black'>the</span> <span style='color: green'>preserve</span> <span style='color: black'>of</span> <span style='color: black'>the</span> <span style='color: black'>iron</span> <span style='color: black'>man</span> <span style='color: black'>series</span> <span style='color: black'>of</span> <span style='color: black'>superhero</span> <span style='color: black'>movies</span> <span style='color: black'>.</span> <span style='color: black'>yet</span> <span style='color: black'>the</span> <span style='color: green'>equipment</span> <span style='color: black'>is</span> <span style='color: black'>increasingly</span> <span style='color: green'>being</span> <span style='color: red'>worn</span> <span style='color: black'>in</span> <span style='color: black'>real</span> <span style='color: black'>life</span> <span style='color: green'>around</span> <span style='color: black'>the</span> <span style='color: black'>world</span> <span style='color: red'>.</span> <span style='color: black'>and</span> <span style='color: black'>one</span> <span style='color: black'>manufacturer</span> <span style='color: red'>-</span> <span style='color: green'>california</span> <span style='color: black'>'</span> <span style='color: black'>s</span> <span style='color: black'>suitx</span> <span style='color: red'>-</span> <span style='color: green'>expects</span> <span style='color: green'>it</span> <span style='color: black'>to</span> <span style='color: black'>go</span> <span style='color: black'>mainstream</span> <span style='color: red'>.</span> <span style='color: black'>in</span> <span style='color: red'>simple</span> <span style='color: black'>terms</span> <span style='color: black'>,</span> <span style='color: black'>an</span> <span style='color: black'>exoskeleton</span> <span style='color: black'>is</span> <span style='color: black'>an</span> <span style='color: green'>external</span> <span style='color: black'>device</span> <span style='color: black'>that</span> <span style='color: black'>supports</span> <span style='color: black'>,</span> <span style='color: red'>covers</span> <span style='color: black'>and</span> <span style='color: red'>protects</span> <span style='color: red'>its</span> <span style='color: green'>user</span> <span style='color: black'>,</span> <span style='color: red'>giving</span> <span style='color: red'>greater</span> <span style='color: green'>levels</span> <span style='color: black'>of</span> <span style='color: red'>strength</span> <span style='color: black'>and</span> <span style='color: red'>endurance</span> <span style='color: red'>.</span>"
      ],
      "text/plain": [
       "<IPython.core.display.HTML object>"
      ]
     },
     "metadata": {},
     "output_type": "display_data"
    },
    {
     "data": {
      "text/html": [
       "<h1>Sci/Tec</h1> <span style='color: red'>imagine</span> <span style='color: red'>wearing</span> <span style='color: green'>high-tech</span> <span style='color: green'>body</span> <span style='color: black'>armour</span> <span style='color: black'>that</span> <span style='color: black'>makes</span> <span style='color: green'>you</span> <span style='color: green'>super</span> <span style='color: red'>strong</span> <span style='color: black'>and</span> <span style='color: black'>tireless</span> <span style='color: red'>.</span> <span style='color: green'>such</span> <span style='color: green'>technology</span> <span style='color: black'>,</span> <span style='color: black'>more</span> <span style='color: black'>specifically</span> <span style='color: green'>called</span> <span style='color: black'>an</span> <span style='color: black'>exoskeleton</span> <span style='color: black'>,</span> <span style='color: green'>sounds</span> <span style='color: red'>like</span> <span style='color: black'>the</span> <span style='color: green'>preserve</span> <span style='color: black'>of</span> <span style='color: black'>the</span> <span style='color: black'>iron</span> <span style='color: green'>man</span> <span style='color: black'>series</span> <span style='color: black'>of</span> <span style='color: black'>superhero</span> <span style='color: black'>movies</span> <span style='color: red'>.</span> <span style='color: black'>yet</span> <span style='color: black'>the</span> <span style='color: green'>equipment</span> <span style='color: black'>is</span> <span style='color: black'>increasingly</span> <span style='color: green'>being</span> <span style='color: red'>worn</span> <span style='color: black'>in</span> <span style='color: black'>real</span> <span style='color: black'>life</span> <span style='color: green'>around</span> <span style='color: black'>the</span> <span style='color: black'>world</span> <span style='color: red'>.</span> <span style='color: black'>and</span> <span style='color: black'>one</span> <span style='color: black'>manufacturer</span> <span style='color: red'>-</span> <span style='color: green'>california</span> <span style='color: black'>'</span> <span style='color: black'>s</span> <span style='color: black'>suitx</span> <span style='color: red'>-</span> <span style='color: green'>expects</span> <span style='color: green'>it</span> <span style='color: black'>to</span> <span style='color: black'>go</span> <span style='color: black'>mainstream</span> <span style='color: red'>.</span> <span style='color: black'>in</span> <span style='color: black'>simple</span> <span style='color: black'>terms</span> <span style='color: black'>,</span> <span style='color: black'>an</span> <span style='color: black'>exoskeleton</span> <span style='color: black'>is</span> <span style='color: black'>an</span> <span style='color: green'>external</span> <span style='color: black'>device</span> <span style='color: black'>that</span> <span style='color: black'>supports</span> <span style='color: black'>,</span> <span style='color: red'>covers</span> <span style='color: black'>and</span> <span style='color: red'>protects</span> <span style='color: red'>its</span> <span style='color: green'>user</span> <span style='color: black'>,</span> <span style='color: red'>giving</span> <span style='color: red'>greater</span> <span style='color: black'>levels</span> <span style='color: black'>of</span> <span style='color: red'>strength</span> <span style='color: black'>and</span> <span style='color: red'>endurance</span> <span style='color: red'>.</span>"
      ],
      "text/plain": [
       "<IPython.core.display.HTML object>"
      ]
     },
     "metadata": {},
     "output_type": "display_data"
    },
    {
     "data": {
      "text/html": [
       "<h1>Sci/Tec</h1> <span style='color: red'>imagine</span> <span style='color: black'>wearing</span> <span style='color: green'>high-tech</span> <span style='color: green'>body</span> <span style='color: black'>armour</span> <span style='color: black'>that</span> <span style='color: black'>makes</span> <span style='color: green'>you</span> <span style='color: green'>super</span> <span style='color: red'>strong</span> <span style='color: black'>and</span> <span style='color: black'>tireless</span> <span style='color: black'>.</span> <span style='color: green'>such</span> <span style='color: green'>technology</span> <span style='color: black'>,</span> <span style='color: black'>more</span> <span style='color: black'>specifically</span> <span style='color: green'>called</span> <span style='color: black'>an</span> <span style='color: black'>exoskeleton</span> <span style='color: black'>,</span> <span style='color: green'>sounds</span> <span style='color: red'>like</span> <span style='color: black'>the</span> <span style='color: green'>preserve</span> <span style='color: black'>of</span> <span style='color: black'>the</span> <span style='color: black'>iron</span> <span style='color: green'>man</span> <span style='color: black'>series</span> <span style='color: black'>of</span> <span style='color: red'>superhero</span> <span style='color: green'>movies</span> <span style='color: red'>.</span> <span style='color: green'>yet</span> <span style='color: black'>the</span> <span style='color: green'>equipment</span> <span style='color: black'>is</span> <span style='color: black'>increasingly</span> <span style='color: green'>being</span> <span style='color: red'>worn</span> <span style='color: black'>in</span> <span style='color: black'>real</span> <span style='color: black'>life</span> <span style='color: green'>around</span> <span style='color: black'>the</span> <span style='color: green'>world</span> <span style='color: black'>.</span> <span style='color: black'>and</span> <span style='color: black'>one</span> <span style='color: red'>manufacturer</span> <span style='color: red'>-</span> <span style='color: green'>california</span> <span style='color: black'>'</span> <span style='color: black'>s</span> <span style='color: black'>suitx</span> <span style='color: red'>-</span> <span style='color: green'>expects</span> <span style='color: green'>it</span> <span style='color: black'>to</span> <span style='color: black'>go</span> <span style='color: black'>mainstream</span> <span style='color: black'>.</span> <span style='color: black'>in</span> <span style='color: red'>simple</span> <span style='color: black'>terms</span> <span style='color: red'>,</span> <span style='color: black'>an</span> <span style='color: black'>exoskeleton</span> <span style='color: black'>is</span> <span style='color: black'>an</span> <span style='color: green'>external</span> <span style='color: black'>device</span> <span style='color: black'>that</span> <span style='color: red'>supports</span> <span style='color: black'>,</span> <span style='color: red'>covers</span> <span style='color: black'>and</span> <span style='color: red'>protects</span> <span style='color: red'>its</span> <span style='color: green'>user</span> <span style='color: black'>,</span> <span style='color: red'>giving</span> <span style='color: red'>greater</span> <span style='color: green'>levels</span> <span style='color: black'>of</span> <span style='color: red'>strength</span> <span style='color: black'>and</span> <span style='color: red'>endurance</span> <span style='color: black'>.</span>"
      ],
      "text/plain": [
       "<IPython.core.display.HTML object>"
      ]
     },
     "metadata": {},
     "output_type": "display_data"
    },
    {
     "data": {
      "text/html": [
       "<h1>Sci/Tec</h1> <span style='color: red'>imagine</span> <span style='color: black'>wearing</span> <span style='color: green'>high-tech</span> <span style='color: green'>body</span> <span style='color: black'>armour</span> <span style='color: black'>that</span> <span style='color: red'>makes</span> <span style='color: green'>you</span> <span style='color: green'>super</span> <span style='color: red'>strong</span> <span style='color: black'>and</span> <span style='color: black'>tireless</span> <span style='color: red'>.</span> <span style='color: green'>such</span> <span style='color: green'>technology</span> <span style='color: black'>,</span> <span style='color: black'>more</span> <span style='color: black'>specifically</span> <span style='color: green'>called</span> <span style='color: black'>an</span> <span style='color: black'>exoskeleton</span> <span style='color: black'>,</span> <span style='color: green'>sounds</span> <span style='color: red'>like</span> <span style='color: black'>the</span> <span style='color: green'>preserve</span> <span style='color: black'>of</span> <span style='color: black'>the</span> <span style='color: black'>iron</span> <span style='color: black'>man</span> <span style='color: black'>series</span> <span style='color: black'>of</span> <span style='color: red'>superhero</span> <span style='color: black'>movies</span> <span style='color: red'>.</span> <span style='color: black'>yet</span> <span style='color: black'>the</span> <span style='color: green'>equipment</span> <span style='color: black'>is</span> <span style='color: black'>increasingly</span> <span style='color: green'>being</span> <span style='color: red'>worn</span> <span style='color: black'>in</span> <span style='color: black'>real</span> <span style='color: green'>life</span> <span style='color: green'>around</span> <span style='color: black'>the</span> <span style='color: black'>world</span> <span style='color: red'>.</span> <span style='color: black'>and</span> <span style='color: black'>one</span> <span style='color: black'>manufacturer</span> <span style='color: red'>-</span> <span style='color: green'>california</span> <span style='color: black'>'</span> <span style='color: black'>s</span> <span style='color: black'>suitx</span> <span style='color: red'>-</span> <span style='color: green'>expects</span> <span style='color: green'>it</span> <span style='color: black'>to</span> <span style='color: black'>go</span> <span style='color: green'>mainstream</span> <span style='color: red'>.</span> <span style='color: black'>in</span> <span style='color: black'>simple</span> <span style='color: black'>terms</span> <span style='color: black'>,</span> <span style='color: black'>an</span> <span style='color: black'>exoskeleton</span> <span style='color: black'>is</span> <span style='color: black'>an</span> <span style='color: green'>external</span> <span style='color: black'>device</span> <span style='color: black'>that</span> <span style='color: black'>supports</span> <span style='color: black'>,</span> <span style='color: red'>covers</span> <span style='color: black'>and</span> <span style='color: red'>protects</span> <span style='color: red'>its</span> <span style='color: green'>user</span> <span style='color: black'>,</span> <span style='color: red'>giving</span> <span style='color: red'>greater</span> <span style='color: green'>levels</span> <span style='color: black'>of</span> <span style='color: red'>strength</span> <span style='color: black'>and</span> <span style='color: red'>endurance</span> <span style='color: red'>.</span>"
      ],
      "text/plain": [
       "<IPython.core.display.HTML object>"
      ]
     },
     "metadata": {},
     "output_type": "display_data"
    },
    {
     "data": {
      "text/html": [
       "<h1>Sci/Tec</h1> <span style='color: red'>imagine</span> <span style='color: red'>wearing</span> <span style='color: green'>high-tech</span> <span style='color: green'>body</span> <span style='color: black'>armour</span> <span style='color: black'>that</span> <span style='color: red'>makes</span> <span style='color: green'>you</span> <span style='color: green'>super</span> <span style='color: red'>strong</span> <span style='color: black'>and</span> <span style='color: black'>tireless</span> <span style='color: red'>.</span> <span style='color: green'>such</span> <span style='color: green'>technology</span> <span style='color: black'>,</span> <span style='color: black'>more</span> <span style='color: black'>specifically</span> <span style='color: green'>called</span> <span style='color: black'>an</span> <span style='color: black'>exoskeleton</span> <span style='color: black'>,</span> <span style='color: green'>sounds</span> <span style='color: red'>like</span> <span style='color: black'>the</span> <span style='color: green'>preserve</span> <span style='color: black'>of</span> <span style='color: black'>the</span> <span style='color: black'>iron</span> <span style='color: black'>man</span> <span style='color: black'>series</span> <span style='color: black'>of</span> <span style='color: red'>superhero</span> <span style='color: black'>movies</span> <span style='color: red'>.</span> <span style='color: green'>yet</span> <span style='color: black'>the</span> <span style='color: green'>equipment</span> <span style='color: black'>is</span> <span style='color: black'>increasingly</span> <span style='color: green'>being</span> <span style='color: red'>worn</span> <span style='color: black'>in</span> <span style='color: green'>real</span> <span style='color: black'>life</span> <span style='color: green'>around</span> <span style='color: black'>the</span> <span style='color: black'>world</span> <span style='color: black'>.</span> <span style='color: black'>and</span> <span style='color: black'>one</span> <span style='color: red'>manufacturer</span> <span style='color: red'>-</span> <span style='color: green'>california</span> <span style='color: black'>'</span> <span style='color: black'>s</span> <span style='color: black'>suitx</span> <span style='color: red'>-</span> <span style='color: green'>expects</span> <span style='color: green'>it</span> <span style='color: black'>to</span> <span style='color: black'>go</span> <span style='color: black'>mainstream</span> <span style='color: red'>.</span> <span style='color: black'>in</span> <span style='color: black'>simple</span> <span style='color: black'>terms</span> <span style='color: black'>,</span> <span style='color: black'>an</span> <span style='color: black'>exoskeleton</span> <span style='color: black'>is</span> <span style='color: black'>an</span> <span style='color: green'>external</span> <span style='color: black'>device</span> <span style='color: black'>that</span> <span style='color: black'>supports</span> <span style='color: black'>,</span> <span style='color: red'>covers</span> <span style='color: black'>and</span> <span style='color: red'>protects</span> <span style='color: red'>its</span> <span style='color: green'>user</span> <span style='color: black'>,</span> <span style='color: red'>giving</span> <span style='color: red'>greater</span> <span style='color: black'>levels</span> <span style='color: black'>of</span> <span style='color: red'>strength</span> <span style='color: black'>and</span> <span style='color: red'>endurance</span> <span style='color: red'>.</span>"
      ],
      "text/plain": [
       "<IPython.core.display.HTML object>"
      ]
     },
     "metadata": {},
     "output_type": "display_data"
    },
    {
     "data": {
      "text/html": [
       "<h1>Sci/Tec</h1> <span style='color: red'>imagine</span> <span style='color: red'>wearing</span> <span style='color: green'>high-tech</span> <span style='color: green'>body</span> <span style='color: black'>armour</span> <span style='color: black'>that</span> <span style='color: black'>makes</span> <span style='color: green'>you</span> <span style='color: green'>super</span> <span style='color: red'>strong</span> <span style='color: black'>and</span> <span style='color: black'>tireless</span> <span style='color: red'>.</span> <span style='color: green'>such</span> <span style='color: green'>technology</span> <span style='color: black'>,</span> <span style='color: black'>more</span> <span style='color: black'>specifically</span> <span style='color: green'>called</span> <span style='color: black'>an</span> <span style='color: black'>exoskeleton</span> <span style='color: black'>,</span> <span style='color: green'>sounds</span> <span style='color: red'>like</span> <span style='color: black'>the</span> <span style='color: green'>preserve</span> <span style='color: black'>of</span> <span style='color: black'>the</span> <span style='color: black'>iron</span> <span style='color: black'>man</span> <span style='color: black'>series</span> <span style='color: black'>of</span> <span style='color: red'>superhero</span> <span style='color: black'>movies</span> <span style='color: red'>.</span> <span style='color: black'>yet</span> <span style='color: black'>the</span> <span style='color: green'>equipment</span> <span style='color: black'>is</span> <span style='color: black'>increasingly</span> <span style='color: green'>being</span> <span style='color: red'>worn</span> <span style='color: black'>in</span> <span style='color: black'>real</span> <span style='color: black'>life</span> <span style='color: green'>around</span> <span style='color: black'>the</span> <span style='color: black'>world</span> <span style='color: red'>.</span> <span style='color: black'>and</span> <span style='color: black'>one</span> <span style='color: black'>manufacturer</span> <span style='color: red'>-</span> <span style='color: green'>california</span> <span style='color: black'>'</span> <span style='color: black'>s</span> <span style='color: black'>suitx</span> <span style='color: red'>-</span> <span style='color: green'>expects</span> <span style='color: green'>it</span> <span style='color: black'>to</span> <span style='color: black'>go</span> <span style='color: black'>mainstream</span> <span style='color: red'>.</span> <span style='color: black'>in</span> <span style='color: black'>simple</span> <span style='color: black'>terms</span> <span style='color: black'>,</span> <span style='color: black'>an</span> <span style='color: black'>exoskeleton</span> <span style='color: black'>is</span> <span style='color: black'>an</span> <span style='color: green'>external</span> <span style='color: black'>device</span> <span style='color: black'>that</span> <span style='color: black'>supports</span> <span style='color: black'>,</span> <span style='color: red'>covers</span> <span style='color: black'>and</span> <span style='color: red'>protects</span> <span style='color: red'>its</span> <span style='color: green'>user</span> <span style='color: black'>,</span> <span style='color: red'>giving</span> <span style='color: red'>greater</span> <span style='color: green'>levels</span> <span style='color: black'>of</span> <span style='color: red'>strength</span> <span style='color: black'>and</span> <span style='color: red'>endurance</span> <span style='color: red'>.</span>"
      ],
      "text/plain": [
       "<IPython.core.display.HTML object>"
      ]
     },
     "metadata": {},
     "output_type": "display_data"
    },
    {
     "data": {
      "text/html": [
       "<h1>Sci/Tec</h1> <span style='color: red'>imagine</span> <span style='color: black'>wearing</span> <span style='color: green'>high-tech</span> <span style='color: green'>body</span> <span style='color: black'>armour</span> <span style='color: black'>that</span> <span style='color: black'>makes</span> <span style='color: green'>you</span> <span style='color: green'>super</span> <span style='color: red'>strong</span> <span style='color: black'>and</span> <span style='color: black'>tireless</span> <span style='color: red'>.</span> <span style='color: green'>such</span> <span style='color: green'>technology</span> <span style='color: black'>,</span> <span style='color: black'>more</span> <span style='color: black'>specifically</span> <span style='color: green'>called</span> <span style='color: black'>an</span> <span style='color: black'>exoskeleton</span> <span style='color: black'>,</span> <span style='color: green'>sounds</span> <span style='color: red'>like</span> <span style='color: black'>the</span> <span style='color: green'>preserve</span> <span style='color: black'>of</span> <span style='color: black'>the</span> <span style='color: black'>iron</span> <span style='color: black'>man</span> <span style='color: black'>series</span> <span style='color: black'>of</span> <span style='color: black'>superhero</span> <span style='color: black'>movies</span> <span style='color: red'>.</span> <span style='color: black'>yet</span> <span style='color: black'>the</span> <span style='color: green'>equipment</span> <span style='color: black'>is</span> <span style='color: black'>increasingly</span> <span style='color: green'>being</span> <span style='color: red'>worn</span> <span style='color: black'>in</span> <span style='color: black'>real</span> <span style='color: green'>life</span> <span style='color: green'>around</span> <span style='color: black'>the</span> <span style='color: black'>world</span> <span style='color: red'>.</span> <span style='color: black'>and</span> <span style='color: black'>one</span> <span style='color: black'>manufacturer</span> <span style='color: red'>-</span> <span style='color: green'>california</span> <span style='color: black'>'</span> <span style='color: black'>s</span> <span style='color: black'>suitx</span> <span style='color: red'>-</span> <span style='color: green'>expects</span> <span style='color: green'>it</span> <span style='color: black'>to</span> <span style='color: black'>go</span> <span style='color: black'>mainstream</span> <span style='color: red'>.</span> <span style='color: black'>in</span> <span style='color: black'>simple</span> <span style='color: black'>terms</span> <span style='color: black'>,</span> <span style='color: black'>an</span> <span style='color: black'>exoskeleton</span> <span style='color: black'>is</span> <span style='color: black'>an</span> <span style='color: green'>external</span> <span style='color: black'>device</span> <span style='color: black'>that</span> <span style='color: black'>supports</span> <span style='color: black'>,</span> <span style='color: red'>covers</span> <span style='color: black'>and</span> <span style='color: red'>protects</span> <span style='color: red'>its</span> <span style='color: green'>user</span> <span style='color: black'>,</span> <span style='color: red'>giving</span> <span style='color: red'>greater</span> <span style='color: green'>levels</span> <span style='color: black'>of</span> <span style='color: red'>strength</span> <span style='color: black'>and</span> <span style='color: red'>endurance</span> <span style='color: black'>.</span>"
      ],
      "text/plain": [
       "<IPython.core.display.HTML object>"
      ]
     },
     "metadata": {},
     "output_type": "display_data"
    }
   ],
   "source": [
    "for p_ker in param_ker:\n",
    "    for p_sap in param_sap:\n",
    "        display(outs['p_ker:'+str(p_ker)]['p_sap:'+str(p_sap)].visualize_text({3: \"Sci/Tec\"}, 0.02))"
   ]
  },
  {
   "cell_type": "code",
   "execution_count": 339,
   "metadata": {},
   "outputs": [],
   "source": [
    "#display(outs['p_ker:True']['p_sap:500'].visualize_words(dict_labels, 7))"
   ]
  },
  {
   "cell_type": "code",
   "execution_count": 340,
   "metadata": {},
   "outputs": [],
   "source": [
    "#outs['p_ker:True']['p_sap:500'].describe()[2]['prediction_score']"
   ]
  },
  {
   "cell_type": "code",
   "execution_count": 341,
   "metadata": {},
   "outputs": [],
   "source": [
    "settings = [('p_ker:'+str(p_ker),'p_sap:'+str(p_sap)) for p_ker,p_sap in itertools.product(param_ker,param_sap)]\n",
    "idx, wrd = reformat_outs(text, settings, 3)\n",
    "idx_anno, new_anno = reformat_anno(text, annotation)"
   ]
  },
  {
   "cell_type": "code",
   "execution_count": 342,
   "metadata": {},
   "outputs": [],
   "source": [
    "#for i,j in itertools.combinations(range(len(settings)), 2):\n",
    "#    print(i,j,':',compare_outs(idx[i], idx[j]))"
   ]
  },
  {
   "cell_type": "code",
   "execution_count": 364,
   "metadata": {},
   "outputs": [
    {
     "data": {
      "image/png": "[encoded data removed]",
      "text/plain": [
       "<Figure size 432x288 with 2 Axes>"
      ]
     },
     "metadata": {
      "needs_background": "light"
     },
     "output_type": "display_data"
    }
   ],
   "source": [
    "plot_array = np.ones((10,10))\n",
    "for i,j in itertools.permutations(range(len(settings)), 2):\n",
    "    plot_array[i,j] = compare_outs(idx[i], idx[j])\n",
    "plt.imshow(plot_array)\n",
    "plt.colorbar()\n",
    "plt.title('Intersection over Union')\n",
    "l=list(range(10))\n",
    "x=[settings[i] for i in range(10)]\n",
    "\n",
    "plt.gca().set_xticks(l)\n",
    "plt.gca().set_xticklabels(x, rotation=90)\n",
    "plt.gca().set_yticks(l)\n",
    "plt.gca().set_yticklabels(x)\n",
    "plt.show()"
   ]
  },
  {
   "cell_type": "code",
   "execution_count": 344,
   "metadata": {},
   "outputs": [
    {
     "name": "stdout",
     "output_type": "stream",
     "text": [
      "('p_ker:True', 'p_sap:500')\n",
      "('p_ker:True', 'p_sap:1250')\n"
     ]
    }
   ],
   "source": [
    "print(settings[0])\n",
    "print(settings[3])"
   ]
  },
  {
   "cell_type": "code",
   "execution_count": 345,
   "metadata": {},
   "outputs": [
    {
     "name": "stdout",
     "output_type": "stream",
     "text": [
      "0 : 0.2413793103448276\n",
      "1 : 0.26666666666666666\n",
      "2 : 0.25806451612903225\n",
      "3 : 0.25806451612903225\n",
      "4 : 0.25\n",
      "5 : 0.24242424242424243\n",
      "6 : 0.23529411764705882\n",
      "7 : 0.25806451612903225\n",
      "8 : 0.25806451612903225\n",
      "9 : 0.25806451612903225\n"
     ]
    }
   ],
   "source": [
    "for i in range(len(settings)):\n",
    "    print(i,':',compare_outs(idx[i], idx_anno))"
   ]
  },
  {
   "cell_type": "code",
   "execution_count": 359,
   "metadata": {},
   "outputs": [
    {
     "name": "stdout",
     "output_type": "stream",
     "text": [
      "('p_ker:True', 'p_sap:750')\n"
     ]
    }
   ],
   "source": [
    "print(settings[1])"
   ]
  },
  {
   "cell_type": "code",
   "execution_count": 347,
   "metadata": {},
   "outputs": [
    {
     "data": {
      "text/plain": [
       "array(['body', 'you', 'super', 'such', 'technology', 'called', 'sounds',\n",
       "       'preserve', 'man', 'yet', 'equipment', 'being', 'real', 'life',\n",
       "       'around', 'world', 'california', 'expects', 'it', 'mainstream',\n",
       "       'terms', 'external', 'user', 'levels', 'of'], dtype='<U12')"
      ]
     },
     "metadata": {},
     "output_type": "display_data"
    },
    {
     "data": {
      "text/plain": [
       "array(['hightech', 'strong', 'technology', 'equipment', 'real', 'life',\n",
       "       'manufacturer', 'expects', 'external', 'device', 'protects',\n",
       "       'user', 'levels', 'strength'], dtype='<U12')"
      ]
     },
     "metadata": {},
     "output_type": "display_data"
    }
   ],
   "source": [
    "display(wrd[9])\n",
    "display(np.array(new_anno))"
   ]
  },
  {
   "cell_type": "code",
   "execution_count": null,
   "metadata": {},
   "outputs": [],
   "source": []
  },
  {
   "cell_type": "code",
   "execution_count": 365,
   "metadata": {},
   "outputs": [
    {
     "data": {
      "image/png": "[encoded data removed]",
      "text/plain": [
       "<Figure size 432x288 with 2 Axes>"
      ]
     },
     "metadata": {
      "needs_background": "light"
     },
     "output_type": "display_data"
    }
   ],
   "source": [
    "plot_array = np.ones((10,1))\n",
    "for i in range(len(settings)):\n",
    "    plot_array[i] = compare_outs(idx[i], idx_anno)\n",
    "plt.imshow(plot_array, vmax = 0.27, vmin = 0.23)\n",
    "plt.colorbar()\n",
    "plt.title('Intersection over Union compared to annotation')\n",
    "l=list(range(10))\n",
    "x=[settings[i] for i in range(10)]\n",
    "\n",
    "plt.gca().set_yticks(l)\n",
    "plt.gca().set_yticklabels(x)\n",
    "plt.gca().set_xticks([1])\n",
    "plt.show()"
   ]
  },
  {
   "cell_type": "code",
   "execution_count": null,
   "metadata": {},
   "outputs": [],
   "source": []
  }
 ],
 "metadata": {
  "kernelspec": {
   "display_name": "Python 3",
   "language": "python",
   "name": "python3"
  },
  "language_info": {
   "codemirror_mode": {
    "name": "ipython",
    "version": 3
   },
   "file_extension": ".py",
   "mimetype": "text/x-python",
   "name": "python",
   "nbconvert_exporter": "python",
   "pygments_lexer": "ipython3",
   "version": "3.8.5"
  }
 },
 "nbformat": 4,
 "nbformat_minor": 4
}
